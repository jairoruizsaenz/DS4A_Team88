{
 "cells": [
  {
   "cell_type": "code",
   "execution_count": 1,
   "metadata": {},
   "outputs": [],
   "source": [
    "import pandas as pd"
   ]
  },
  {
   "cell_type": "code",
   "execution_count": 2,
   "metadata": {},
   "outputs": [],
   "source": [
    "exportar_datos = True\n"
   ]
  },
  {
   "cell_type": "code",
   "execution_count": 3,
   "metadata": {},
   "outputs": [],
   "source": [
    "def limpiar(n):\n",
    "    return str(n).replace('.0', '')\n",
    "\n",
    "def read_dataFile(path):  \n",
    "    df = pd.read_excel(path)\n",
    "    \n",
    "    file_name = list(df)[0]\n",
    "    \n",
    "    if file_name == 'Unnamed: 0':\n",
    "        for idx in list(df.iloc[0]):\n",
    "            if isinstance(idx, str):\n",
    "                file_name = idx\n",
    "                break\n",
    "    \n",
    "    df.columns = map(limpiar, list(df.iloc[1]))    \n",
    "    df = df.drop([0, 1]).reset_index(drop=True)\n",
    "    df['Archivo'] = file_name\n",
    "\n",
    "    return df"
   ]
  },
  {
   "cell_type": "code",
   "execution_count": 4,
   "metadata": {},
   "outputs": [],
   "source": [
    "## Descarga archivo Listado_Agentes.xlsx\n",
    "#filePath=\"http://portalbissrs.xm.com.co/Histricos/Listado_Agentes.xlsx\"\n",
    "#df = pd.read_excel(filePath)\n",
    "\n",
    "#df.columns = list(df.iloc[2])\n",
    "#df = df.drop([0, 1, 2]).reset_index(drop=True)\n",
    "\n",
    "#if exportar_datos:\n",
    "#    df.to_excel(f\"datos/listado_agentes.xlsx\", index=False)\n",
    "\n",
    "#df.head(5)"
   ]
  },
  {
   "cell_type": "code",
   "execution_count": 5,
   "metadata": {},
   "outputs": [
    {
     "name": "stdout",
     "output_type": "stream",
     "text": [
      "2000 - Ok\n",
      "2001 - Ok\n",
      "2002 - Ok\n",
      "2003 - Ok\n",
      "2004 - Ok\n",
      "2005 - Ok\n",
      "2006 - Ok\n",
      "2007 - Ok\n",
      "2008 - Ok\n",
      "2009 - Ok\n",
      "2010 - Ok\n",
      "2011 - Ok\n",
      "2012 - Ok\n",
      "2013 - Ok\n",
      "2014 - Ok\n",
      "2015 - Ok\n",
      "2016 - Ok\n",
      "2017 - Ok\n",
      "2018 - Ok\n",
      "2019 - Ok\n",
      "2020 - Ok\n",
      "2021 - Ok\n",
      "Error con la información del año 2022 - http://portalbissrs.xm.com.co/oferta/Histricos/Disponibilidad_Declarada_(kW)_2022.xlsx\n",
      "Error con la información del año 2023 - http://portalbissrs.xm.com.co/oferta/Histricos/Disponibilidad_Declarada_(kW)_2023.xlsx\n",
      "Error con la información del año 2024 - http://portalbissrs.xm.com.co/oferta/Histricos/Disponibilidad_Declarada_(kW)_2024.xlsx\n"
     ]
    }
   ],
   "source": [
    "documentos = [\n",
    "#    {'filename':'Disponibilidad_Comercial', 'enlace':'http://portalbissrs.xm.com.co/oferta/Histricos/Disponibilidad/Disponibilidad_Comercial_(kW)_'},\n",
    "     {'filename':'Disponibilidad_Declarada', \n",
    "      'enlace_1':'http://portalbissrs.xm.com.co/oferta/Histricos/Disponibilidad/Disponibilidad_Declarada_(kW)_',\n",
    "     'enlace_2':'http://portalbissrs.xm.com.co/oferta/Histricos/Disponibilidad_Declarada_(kW)_'}\n",
    "]\n",
    "\n",
    "for doc in documentos:\n",
    "    temp = pd.DataFrame({'Fecha' : []})\n",
    "    for year in range(2000, 2025):\n",
    "        try:\n",
    "            if year < 2020:\n",
    "                filePath = doc['enlace_1'] + f'{year}.xlsx'\n",
    "            else:\n",
    "                filePath = doc['enlace_2'] + f'{year}.xlsx'\n",
    "                \n",
    "            new_data = read_dataFile(filePath)\n",
    "            temp = pd.concat([temp, new_data])\n",
    "            print(f'{year} - Ok')\n",
    "        except:\n",
    "            print(f'Error con la información del año {year} - {filePath}')\n",
    "    \n",
    "    if exportar_datos:\n",
    "        temp.to_csv(f\"{doc['filename']}.csv\", index=False)"
   ]
  },
  {
   "cell_type": "code",
   "execution_count": 6,
   "metadata": {},
   "outputs": [
    {
     "data": {
      "text/plain": [
       "array(['Disponibilidad Declarada (kW)-2000',\n",
       "       'Disponibilidad Declarada (kW)-2001',\n",
       "       'Disponibilidad Declarada (kW)-2002',\n",
       "       'Disponibilidad Declarada (kW)-2003',\n",
       "       'Disponibilidad Declarada (kW)-2004',\n",
       "       'Disponibilidad Declarada (kW)-2005',\n",
       "       'Disponibilidad Declarada (kW)-2006',\n",
       "       'Disponibilidad Declarada (kW)-2007',\n",
       "       'Disponibilidad Declarada (kW) 2008',\n",
       "       'Disponibilidad Declarada (kW) 2009',\n",
       "       'Disponibilidad Declarada (kW) 2010',\n",
       "       'Disponibilidad Declarada (kW) 2011',\n",
       "       'Disponibilidad Declarada (kW) 2012',\n",
       "       'Disponibilidad Declarada (kW) 2013',\n",
       "       'Disponibilidad Declarada (kW) 2014',\n",
       "       'Disponibilidad Declarada (kW) 2015',\n",
       "       'Disponibilidad Declarada (kW) 2016',\n",
       "       'Disponibilidad Declarada (kW) 2017',\n",
       "       'Disponibilidad Declarada (kW) 2018',\n",
       "       'Disponibilidad Declarada (kW) 2019',\n",
       "       'Disponibilidad Declarada (kW) 2020',\n",
       "       'Disponibilidad Declarada (kW) 2021'], dtype=object)"
      ]
     },
     "execution_count": 6,
     "metadata": {},
     "output_type": "execute_result"
    }
   ],
   "source": [
    "temp.Archivo.unique()\n"
   ]
  },
  {
   "cell_type": "code",
   "execution_count": 7,
   "metadata": {},
   "outputs": [
    {
     "data": {
      "text/plain": [
       "Index(['Fecha', 'Recurso', 'Código Agente', '0', '1', '2', '3', '4', '5', '6',\n",
       "       '7', '8', '9', '10', '11', '12', '13', '14', '15', '16', '17', '18',\n",
       "       '19', '20', '21', '22', '23', 'Archivo', 'Codigo Recurso'],\n",
       "      dtype='object')"
      ]
     },
     "execution_count": 7,
     "metadata": {},
     "output_type": "execute_result"
    }
   ],
   "source": [
    "temp.columns\n"
   ]
  },
  {
   "cell_type": "code",
   "execution_count": 8,
   "metadata": {},
   "outputs": [
    {
     "data": {
      "text/plain": [
       "(489384, 29)"
      ]
     },
     "execution_count": 8,
     "metadata": {},
     "output_type": "execute_result"
    }
   ],
   "source": [
    "temp.shape\n"
   ]
  },
  {
   "cell_type": "code",
   "execution_count": 9,
   "metadata": {},
   "outputs": [
    {
     "name": "stdout",
     "output_type": "stream",
     "text": [
      "2000 - Ok\n",
      "2001 - Ok\n",
      "2002 - Ok\n",
      "2003 - Ok\n",
      "2004 - Ok\n",
      "2005 - Ok\n",
      "2006 - Ok\n",
      "2007 - Ok\n",
      "2008 - Ok\n",
      "2009 - Ok\n",
      "2010 - Ok\n",
      "2011 - Ok\n",
      "2012 - Ok\n",
      "2013 - Ok\n",
      "2014 - Ok\n",
      "2015 - Ok\n",
      "2016 - Ok\n",
      "2017 - Ok\n",
      "2018 - Ok\n",
      "2019 - Ok\n",
      "2020 - Ok\n",
      "2021 - Ok\n",
      "Error con la información del año 2022 - http://portalbissrs.xm.com.co/oferta/Histricos/Disponibilidad_Real_(porcentaje)_2022.xlsx\n",
      "Error con la información del año 2023 - http://portalbissrs.xm.com.co/oferta/Histricos/Disponibilidad_Real_(porcentaje)_2023.xlsx\n",
      "Error con la información del año 2024 - http://portalbissrs.xm.com.co/oferta/Histricos/Disponibilidad_Real_(porcentaje)_2024.xlsx\n"
     ]
    }
   ],
   "source": [
    "\n",
    "# Descarga de Disponibilidad_Real(porcentaje)\n",
    "# 2000-2019 | 'http://portalbissrs.xm.com.co/oferta/Histricos/Disponibilidad/Disponibilidad_Real_(porcentaje)_{year}.xlsx?'\n",
    "# 2020-2021 | 'http://portalbissrs.xm.com.co/oferta/Histricos/Disponibilidad_Real_(porcentaje)_{year}.xlsx?'\n",
    "\n",
    "documentos = [\n",
    "    {'filename':'Disponibilidad_Real(porcentaje)', \n",
    "     'enlace_1':'http://portalbissrs.xm.com.co/oferta/Histricos/Disponibilidad/Disponibilidad_Real_(porcentaje)_',\n",
    "     'enlace_2':'http://portalbissrs.xm.com.co/oferta/Histricos/Disponibilidad_Real_(porcentaje)_'}\n",
    "]\n",
    "\n",
    "for doc in documentos:\n",
    "    temp = pd.DataFrame({'Fecha' : []})\n",
    "    for year in range(2000, 2025):\n",
    "        try:\n",
    "            if year < 2020:\n",
    "                filePath = doc['enlace_1'] + f'{year}.xlsx'\n",
    "            else:\n",
    "                filePath = doc['enlace_2'] + f'{year}.xlsx'\n",
    "                \n",
    "            new_data = read_dataFile(filePath)\n",
    "            temp = pd.concat([temp, new_data])\n",
    "            print(f'{year} - Ok')\n",
    "        except:\n",
    "            print(f'Error con la información del año {year} - {filePath}')\n",
    "    \n",
    "    if exportar_datos:\n",
    "        temp.to_csv(f\"{doc['filename']}.csv\", index=False)\n",
    "        \n",
    "        "
   ]
  },
  {
   "cell_type": "code",
   "execution_count": 10,
   "metadata": {},
   "outputs": [
    {
     "name": "stdout",
     "output_type": "stream",
     "text": [
      "2000 - Ok\n",
      "2001 - Ok\n",
      "2002 - Ok\n",
      "2003 - Ok\n",
      "2004 - Ok\n",
      "2005 - Ok\n",
      "2006 - Ok\n",
      "2007 - Ok\n",
      "2008 - Ok\n",
      "2009 - Ok\n",
      "2010 - Ok\n",
      "2011 - Ok\n",
      "2012 - Ok\n",
      "2013 - Ok\n",
      "2014 - Ok\n",
      "2015 - Ok\n",
      "2016 - Ok\n",
      "2017 - Ok\n",
      "2018 - Ok\n",
      "2019 - Ok\n",
      "2020 - Ok\n",
      "2021 - Ok\n",
      "Error con la información del año 2022 - http://portalbissrs.xm.com.co/oferta/Histricos/Disponibilidad_Real_(kW)_2022.xlsx\n",
      "Error con la información del año 2023 - http://portalbissrs.xm.com.co/oferta/Histricos/Disponibilidad_Real_(kW)_2023.xlsx\n",
      "Error con la información del año 2024 - http://portalbissrs.xm.com.co/oferta/Histricos/Disponibilidad_Real_(kW)_2024.xlsx\n"
     ]
    }
   ],
   "source": [
    "\n",
    "# Descarga de Disponibilidad_Real\n",
    "# 2000-2019 | 'http://portalbissrs.xm.com.co/oferta/Histricos/Disponibilidad/Disponibilidad_Real_(kW)_{year}.xlsx?'\n",
    "# 2020-2021 | 'http://portalbissrs.xm.com.co/oferta/Histricos/Disponibilidad_Real_(kW)_{year}.xlsx?'\n",
    "\n",
    "documentos = [\n",
    "    {'filename':'Disponibilidad_Real', \n",
    "     'enlace_1':'http://portalbissrs.xm.com.co/oferta/Histricos/Disponibilidad/Disponibilidad_Real_(kW)_',\n",
    "     'enlace_2':'http://portalbissrs.xm.com.co/oferta/Histricos/Disponibilidad_Real_(kW)_'}\n",
    "]\n",
    "\n",
    "for doc in documentos:\n",
    "    temp = pd.DataFrame({'Fecha' : []})\n",
    "    for year in range(2000, 2025):\n",
    "        try:\n",
    "            if year < 2020:\n",
    "                filePath = doc['enlace_1'] + f'{year}.xlsx'\n",
    "            else:\n",
    "                filePath = doc['enlace_2'] + f'{year}.xlsx'\n",
    "                \n",
    "            new_data = read_dataFile(filePath)\n",
    "            temp = pd.concat([temp, new_data])\n",
    "            print(f'{year} - Ok')\n",
    "        except:\n",
    "            print(f'Error con la información del año {year} - {filePath}')\n",
    "    \n",
    "    if exportar_datos:\n",
    "        temp.to_csv(f\"{doc['filename']}.csv\", index=False)\n",
    "        "
   ]
  },
  {
   "cell_type": "code",
   "execution_count": null,
   "metadata": {},
   "outputs": [],
   "source": []
  },
  {
   "cell_type": "code",
   "execution_count": null,
   "metadata": {},
   "outputs": [],
   "source": []
  },
  {
   "cell_type": "code",
   "execution_count": null,
   "metadata": {},
   "outputs": [],
   "source": []
  }
 ],
 "metadata": {
  "kernelspec": {
   "display_name": "Python 3",
   "language": "python",
   "name": "python3"
  },
  "language_info": {
   "codemirror_mode": {
    "name": "ipython",
    "version": 3
   },
   "file_extension": ".py",
   "mimetype": "text/x-python",
   "name": "python",
   "nbconvert_exporter": "python",
   "pygments_lexer": "ipython3",
   "version": "3.8.5"
  }
 },
 "nbformat": 4,
 "nbformat_minor": 4
}
