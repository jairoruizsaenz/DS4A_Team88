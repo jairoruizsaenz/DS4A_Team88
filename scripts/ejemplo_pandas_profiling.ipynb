{
 "cells": [
  {
   "cell_type": "code",
   "execution_count": 1,
   "id": "638ad320",
   "metadata": {},
   "outputs": [],
   "source": [
    "import pandas as pd\n",
    "\n",
    "# pip install pandas-profiling\n",
    "# pip install ipywidgets\n",
    "from pandas_profiling import ProfileReport"
   ]
  },
  {
   "cell_type": "code",
   "execution_count": 2,
   "id": "92f1cd01",
   "metadata": {},
   "outputs": [],
   "source": [
    "# Descarga archivo Listado_Agentes.xlsx\n",
    "filePath=\"http://portalbissrs.xm.com.co/oferta/Histricos/Disponibilidad/Disponibilidad_Real_(kW)_2019.xlsx\"\n",
    "df = pd.read_excel(filePath)\n",
    "\n",
    "df.columns = list(df.iloc[1])\n",
    "df = df.drop([0, 1]).reset_index(drop=True)"
   ]
  },
  {
   "cell_type": "code",
   "execution_count": 3,
   "id": "06e35186",
   "metadata": {},
   "outputs": [
    {
     "data": {
      "text/html": [
       "<div>\n",
       "<style scoped>\n",
       "    .dataframe tbody tr th:only-of-type {\n",
       "        vertical-align: middle;\n",
       "    }\n",
       "\n",
       "    .dataframe tbody tr th {\n",
       "        vertical-align: top;\n",
       "    }\n",
       "\n",
       "    .dataframe thead th {\n",
       "        text-align: right;\n",
       "    }\n",
       "</style>\n",
       "<table border=\"1\" class=\"dataframe\">\n",
       "  <thead>\n",
       "    <tr style=\"text-align: right;\">\n",
       "      <th></th>\n",
       "      <th>Fecha</th>\n",
       "      <th>Recurso</th>\n",
       "      <th>Código Recurso</th>\n",
       "      <th>Tipo Generación</th>\n",
       "      <th>Código Agente</th>\n",
       "      <th>0.0</th>\n",
       "      <th>1.0</th>\n",
       "      <th>2.0</th>\n",
       "      <th>3.0</th>\n",
       "      <th>4.0</th>\n",
       "      <th>...</th>\n",
       "      <th>14.0</th>\n",
       "      <th>15.0</th>\n",
       "      <th>16.0</th>\n",
       "      <th>17.0</th>\n",
       "      <th>18.0</th>\n",
       "      <th>19.0</th>\n",
       "      <th>20.0</th>\n",
       "      <th>21.0</th>\n",
       "      <th>22.0</th>\n",
       "      <th>23.0</th>\n",
       "    </tr>\n",
       "  </thead>\n",
       "  <tbody>\n",
       "    <tr>\n",
       "      <th>0</th>\n",
       "      <td>2019-01-01 00:00:00</td>\n",
       "      <td>ALBAN</td>\n",
       "      <td>ALBG</td>\n",
       "      <td>HIDRAULICA</td>\n",
       "      <td>EPSG</td>\n",
       "      <td>145000.0</td>\n",
       "      <td>145000.0</td>\n",
       "      <td>145000.0</td>\n",
       "      <td>145000.0</td>\n",
       "      <td>145000.0</td>\n",
       "      <td>...</td>\n",
       "      <td>145000.0</td>\n",
       "      <td>145000.0</td>\n",
       "      <td>145000.0</td>\n",
       "      <td>145000.0</td>\n",
       "      <td>145000.0</td>\n",
       "      <td>145000.0</td>\n",
       "      <td>145000.0</td>\n",
       "      <td>145000.0</td>\n",
       "      <td>145000.0</td>\n",
       "      <td>145000.0</td>\n",
       "    </tr>\n",
       "    <tr>\n",
       "      <th>1</th>\n",
       "      <td>2019-01-01 00:00:00</td>\n",
       "      <td>AMOYA LA ESPERANZA</td>\n",
       "      <td>MOY1</td>\n",
       "      <td>HIDRAULICA</td>\n",
       "      <td>ISGG</td>\n",
       "      <td>40000.0</td>\n",
       "      <td>40000.0</td>\n",
       "      <td>40000.0</td>\n",
       "      <td>40000.0</td>\n",
       "      <td>40000.0</td>\n",
       "      <td>...</td>\n",
       "      <td>40000.0</td>\n",
       "      <td>40000.0</td>\n",
       "      <td>40000.0</td>\n",
       "      <td>40000.0</td>\n",
       "      <td>40000.0</td>\n",
       "      <td>40000.0</td>\n",
       "      <td>40000.0</td>\n",
       "      <td>40000.0</td>\n",
       "      <td>40000.0</td>\n",
       "      <td>40000.0</td>\n",
       "    </tr>\n",
       "    <tr>\n",
       "      <th>2</th>\n",
       "      <td>2019-01-01 00:00:00</td>\n",
       "      <td>BETANIA</td>\n",
       "      <td>CHBG</td>\n",
       "      <td>HIDRAULICA</td>\n",
       "      <td>ENDG</td>\n",
       "      <td>453000.0</td>\n",
       "      <td>453000.0</td>\n",
       "      <td>453000.0</td>\n",
       "      <td>453000.0</td>\n",
       "      <td>453000.0</td>\n",
       "      <td>...</td>\n",
       "      <td>453000.0</td>\n",
       "      <td>453000.0</td>\n",
       "      <td>453000.0</td>\n",
       "      <td>453000.0</td>\n",
       "      <td>453000.0</td>\n",
       "      <td>453000.0</td>\n",
       "      <td>453000.0</td>\n",
       "      <td>453000.0</td>\n",
       "      <td>453000.0</td>\n",
       "      <td>453000.0</td>\n",
       "    </tr>\n",
       "    <tr>\n",
       "      <th>3</th>\n",
       "      <td>2019-01-01 00:00:00</td>\n",
       "      <td>CALIMA</td>\n",
       "      <td>CLMG</td>\n",
       "      <td>HIDRAULICA</td>\n",
       "      <td>EPSG</td>\n",
       "      <td>132000.0</td>\n",
       "      <td>132000.0</td>\n",
       "      <td>132000.0</td>\n",
       "      <td>132000.0</td>\n",
       "      <td>132000.0</td>\n",
       "      <td>...</td>\n",
       "      <td>132000.0</td>\n",
       "      <td>132000.0</td>\n",
       "      <td>132000.0</td>\n",
       "      <td>132000.0</td>\n",
       "      <td>132000.0</td>\n",
       "      <td>132000.0</td>\n",
       "      <td>132000.0</td>\n",
       "      <td>132000.0</td>\n",
       "      <td>132000.0</td>\n",
       "      <td>132000.0</td>\n",
       "    </tr>\n",
       "    <tr>\n",
       "      <th>4</th>\n",
       "      <td>2019-01-01 00:00:00</td>\n",
       "      <td>CARLOS LLERAS</td>\n",
       "      <td>CLL1</td>\n",
       "      <td>HIDRAULICA</td>\n",
       "      <td>HDPG</td>\n",
       "      <td>18000.0</td>\n",
       "      <td>18000.0</td>\n",
       "      <td>18000.0</td>\n",
       "      <td>18000.0</td>\n",
       "      <td>18000.0</td>\n",
       "      <td>...</td>\n",
       "      <td>18000.0</td>\n",
       "      <td>18000.0</td>\n",
       "      <td>18000.0</td>\n",
       "      <td>18000.0</td>\n",
       "      <td>24666.0</td>\n",
       "      <td>43000.0</td>\n",
       "      <td>43000.0</td>\n",
       "      <td>43000.0</td>\n",
       "      <td>43000.0</td>\n",
       "      <td>43000.0</td>\n",
       "    </tr>\n",
       "  </tbody>\n",
       "</table>\n",
       "<p>5 rows × 29 columns</p>\n",
       "</div>"
      ],
      "text/plain": [
       "                 Fecha             Recurso Código Recurso Tipo Generación  \\\n",
       "0  2019-01-01 00:00:00               ALBAN           ALBG      HIDRAULICA   \n",
       "1  2019-01-01 00:00:00  AMOYA LA ESPERANZA           MOY1      HIDRAULICA   \n",
       "2  2019-01-01 00:00:00             BETANIA           CHBG      HIDRAULICA   \n",
       "3  2019-01-01 00:00:00              CALIMA           CLMG      HIDRAULICA   \n",
       "4  2019-01-01 00:00:00       CARLOS LLERAS           CLL1      HIDRAULICA   \n",
       "\n",
       "  Código Agente       0.0       1.0       2.0       3.0       4.0  ...  \\\n",
       "0          EPSG  145000.0  145000.0  145000.0  145000.0  145000.0  ...   \n",
       "1          ISGG   40000.0   40000.0   40000.0   40000.0   40000.0  ...   \n",
       "2          ENDG  453000.0  453000.0  453000.0  453000.0  453000.0  ...   \n",
       "3          EPSG  132000.0  132000.0  132000.0  132000.0  132000.0  ...   \n",
       "4          HDPG   18000.0   18000.0   18000.0   18000.0   18000.0  ...   \n",
       "\n",
       "       14.0      15.0      16.0      17.0      18.0      19.0      20.0  \\\n",
       "0  145000.0  145000.0  145000.0  145000.0  145000.0  145000.0  145000.0   \n",
       "1   40000.0   40000.0   40000.0   40000.0   40000.0   40000.0   40000.0   \n",
       "2  453000.0  453000.0  453000.0  453000.0  453000.0  453000.0  453000.0   \n",
       "3  132000.0  132000.0  132000.0  132000.0  132000.0  132000.0  132000.0   \n",
       "4   18000.0   18000.0   18000.0   18000.0   24666.0   43000.0   43000.0   \n",
       "\n",
       "       21.0      22.0      23.0  \n",
       "0  145000.0  145000.0  145000.0  \n",
       "1   40000.0   40000.0   40000.0  \n",
       "2  453000.0  453000.0  453000.0  \n",
       "3  132000.0  132000.0  132000.0  \n",
       "4   43000.0   43000.0   43000.0  \n",
       "\n",
       "[5 rows x 29 columns]"
      ]
     },
     "execution_count": 3,
     "metadata": {},
     "output_type": "execute_result"
    }
   ],
   "source": [
    "df.head(5)"
   ]
  },
  {
   "cell_type": "code",
   "execution_count": 4,
   "id": "760bd1d3",
   "metadata": {},
   "outputs": [],
   "source": [
    "profile = ProfileReport(df, title=\"Pandas Profiling Report\")\n",
    "# profile = ProfileReport(df, title=\"Pandas Profiling Report\", minimal=True)"
   ]
  },
  {
   "cell_type": "code",
   "execution_count": 5,
   "id": "745d8238",
   "metadata": {},
   "outputs": [
    {
     "data": {
      "application/vnd.jupyter.widget-view+json": {
       "model_id": "13936d2eccd24b6d866abc4ef6ecaec5",
       "version_major": 2,
       "version_minor": 0
      },
      "text/plain": [
       "Summarize dataset:   0%|          | 0/42 [00:00<?, ?it/s]"
      ]
     },
     "metadata": {},
     "output_type": "display_data"
    },
    {
     "data": {
      "application/vnd.jupyter.widget-view+json": {
       "model_id": "f686dca9867d4c48b21935b698b6ecff",
       "version_major": 2,
       "version_minor": 0
      },
      "text/plain": [
       "Generate report structure:   0%|          | 0/1 [00:00<?, ?it/s]"
      ]
     },
     "metadata": {},
     "output_type": "display_data"
    },
    {
     "data": {
      "application/vnd.jupyter.widget-view+json": {
       "model_id": "373fbd6599c64da8b9481ab29cc0197f",
       "version_major": 2,
       "version_minor": 0
      },
      "text/plain": [
       "Render HTML:   0%|          | 0/1 [00:00<?, ?it/s]"
      ]
     },
     "metadata": {},
     "output_type": "display_data"
    },
    {
     "data": {
      "application/vnd.jupyter.widget-view+json": {
       "model_id": "560dffb69ddd4be093547c567c2c7f42",
       "version_major": 2,
       "version_minor": 0
      },
      "text/plain": [
       "Export report to file:   0%|          | 0/1 [00:00<?, ?it/s]"
      ]
     },
     "metadata": {},
     "output_type": "display_data"
    }
   ],
   "source": [
    "profile.to_file(\"ejemplo reporte.html\")"
   ]
  },
  {
   "cell_type": "code",
   "execution_count": 6,
   "id": "da40cabf",
   "metadata": {},
   "outputs": [
    {
     "data": {
      "application/vnd.jupyter.widget-view+json": {
       "model_id": "0bb3214d2f9e445f8a8572b2b6b11da5",
       "version_major": 2,
       "version_minor": 0
      },
      "text/plain": [
       "Render widgets:   0%|          | 0/1 [00:00<?, ?it/s]"
      ]
     },
     "metadata": {},
     "output_type": "display_data"
    },
    {
     "data": {
      "application/vnd.jupyter.widget-view+json": {
       "model_id": "17db215b7f784f5ebea8c86d49fc8da6",
       "version_major": 2,
       "version_minor": 0
      },
      "text/plain": [
       "VBox(children=(Tab(children=(Tab(children=(GridBox(children=(VBox(children=(GridspecLayout(children=(HTML(valu…"
      ]
     },
     "metadata": {},
     "output_type": "display_data"
    }
   ],
   "source": [
    "# profile.to_widgets()"
   ]
  }
 ],
 "metadata": {
  "kernelspec": {
   "display_name": "Python 3",
   "language": "python",
   "name": "python3"
  },
  "language_info": {
   "codemirror_mode": {
    "name": "ipython",
    "version": 3
   },
   "file_extension": ".py",
   "mimetype": "text/x-python",
   "name": "python",
   "nbconvert_exporter": "python",
   "pygments_lexer": "ipython3",
   "version": "3.8.3"
  }
 },
 "nbformat": 4,
 "nbformat_minor": 5
}
