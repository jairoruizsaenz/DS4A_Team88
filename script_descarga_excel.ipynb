{
 "cells": [
  {
   "cell_type": "code",
   "execution_count": 1,
   "id": "33c8bb59",
   "metadata": {},
   "outputs": [],
   "source": [
    "import pandas as pd"
   ]
  },
  {
   "cell_type": "code",
   "execution_count": 2,
   "id": "35f1a7b2",
   "metadata": {},
   "outputs": [],
   "source": [
    "exportar_datos = True"
   ]
  },
  {
   "cell_type": "code",
   "execution_count": 3,
   "id": "214b503f",
   "metadata": {},
   "outputs": [],
   "source": [
    "def limpiar(n):\n",
    "    return str(n).replace('.0', '')\n",
    "\n",
    "def read_dataFile(path):  \n",
    "    df = pd.read_excel(path)\n",
    "    \n",
    "    file_name = list(df)[0]\n",
    "    \n",
    "    if file_name == 'Unnamed: 0':\n",
    "        for idx in list(df.iloc[0]):\n",
    "            if isinstance(idx, str):\n",
    "                file_name = idx\n",
    "                break\n",
    "    \n",
    "    df.columns = map(limpiar, list(df.iloc[1]))    \n",
    "    df = df.drop([0, 1]).reset_index(drop=True)\n",
    "    df['Archivo'] = file_name\n",
    "\n",
    "    return df"
   ]
  },
  {
   "cell_type": "code",
   "execution_count": null,
   "id": "d92d73af",
   "metadata": {},
   "outputs": [],
   "source": [
    "# Descarga archivo Listado_Agentes.xlsx\n",
    "filePath=\"http://portalbissrs.xm.com.co/Histricos/Listado_Agentes.xlsx\"\n",
    "df = pd.read_excel(filePath)\n",
    "\n",
    "df.columns = list(df.iloc[2])\n",
    "df = df.drop([0, 1, 2]).reset_index(drop=True)\n",
    "\n",
    "if exportar_datos:\n",
    "    df.to_excel(f\"datos/listado_agentes.xlsx\", index=False)\n",
    "\n",
    "df.head(5)"
   ]
  },
  {
   "cell_type": "code",
   "execution_count": null,
   "id": "8eb31039",
   "metadata": {},
   "outputs": [],
   "source": [
    "documentos = [\n",
    "    {'filename':'Disponibilidad_Comercial', 'enlace':'http://portalbissrs.xm.com.co/oferta/Histricos/Disponibilidad/Disponibilidad_Comercial_(kW)_'},\n",
    "#     {'filename':'Disponibilidad_Declarada', 'enlace':'http://portalbissrs.xm.com.co/oferta/Histricos/Disponibilidad/Disponibilidad_Declarada_(kW)_'}\n",
    "]\n",
    "\n",
    "for doc in documentos:\n",
    "    temp = pd.DataFrame({'Fecha' : []})    \n",
    "    for year in range(2000, 2025):\n",
    "        try:\n",
    "            filePath = doc['enlace'] + f'{year}.xlsx'                        \n",
    "            new_data = read_dataFile(filePath)\n",
    "            temp = pd.concat([temp, new_data])\n",
    "            print(f'{year} - Ok')\n",
    "        except:\n",
    "            print(f'Error con la información del año {year} - {filePath}')\n",
    "    \n",
    "    if exportar_datos:\n",
    "        temp.to_excel(f\"datos/{doc['filename']}.xlsx\", index=False)"
   ]
  },
  {
   "cell_type": "code",
   "execution_count": null,
   "id": "67ac01c1",
   "metadata": {},
   "outputs": [],
   "source": [
    "temp.Archivo.unique()"
   ]
  },
  {
   "cell_type": "code",
   "execution_count": null,
   "id": "029611f0",
   "metadata": {},
   "outputs": [],
   "source": [
    "temp.columns"
   ]
  },
  {
   "cell_type": "code",
   "execution_count": null,
   "id": "199bc635",
   "metadata": {},
   "outputs": [],
   "source": [
    "temp.shape"
   ]
  },
  {
   "cell_type": "code",
   "execution_count": 8,
   "id": "cb0daba3",
   "metadata": {},
   "outputs": [
    {
     "name": "stdout",
     "output_type": "stream",
     "text": [
      "2000 - Ok\n",
      "2001 - Ok\n",
      "2002 - Ok\n",
      "2003 - Ok\n",
      "2004 - Ok\n",
      "2005 - Ok\n",
      "2006 - Ok\n",
      "2007 - Ok\n",
      "2008 - Ok\n",
      "2009 - Ok\n",
      "2010 - Ok\n",
      "2011 - Ok\n",
      "2012 - Ok\n",
      "2013 - Ok\n",
      "2014 - Ok\n",
      "2015 - Ok\n",
      "2016 - Ok\n",
      "2017 - Ok\n",
      "2018 - Ok\n",
      "2019 - Ok\n",
      "2020 - Ok\n",
      "2021 - Ok\n",
      "Error con la información del año 2022 - http://portalbissrs.xm.com.co/oferta/Histricos/Disponibilidad_Real_(kW)_2022.xlsx\n",
      "Error con la información del año 2023 - http://portalbissrs.xm.com.co/oferta/Histricos/Disponibilidad_Real_(kW)_2023.xlsx\n",
      "Error con la información del año 2024 - http://portalbissrs.xm.com.co/oferta/Histricos/Disponibilidad_Real_(kW)_2024.xlsx\n"
     ]
    }
   ],
   "source": [
    "# Descarga de Disponibilidad_Real\n",
    "# 2000-2019 | 'http://portalbissrs.xm.com.co/oferta/Histricos/Disponibilidad/Disponibilidad_Real_(kW)_{year}.xlsx?'\n",
    "# 2020-2021 | 'http://portalbissrs.xm.com.co/oferta/Histricos/Disponibilidad_Real_(kW)_{year}.xlsx?'\n",
    "\n",
    "documentos = [\n",
    "    {'filename':'Disponibilidad_Real', \n",
    "     'enlace_1':'http://portalbissrs.xm.com.co/oferta/Histricos/Disponibilidad/Disponibilidad_Real_(kW)_',\n",
    "     'enlace_2':'http://portalbissrs.xm.com.co/oferta/Histricos/Disponibilidad_Real_(kW)_'}\n",
    "]\n",
    "\n",
    "for doc in documentos:\n",
    "    temp = pd.DataFrame({'Fecha' : []})\n",
    "    for year in range(2000, 2025):\n",
    "        try:\n",
    "            if year < 2020:\n",
    "                filePath = doc['enlace_1'] + f'{year}.xlsx'\n",
    "            else:\n",
    "                filePath = doc['enlace_2'] + f'{year}.xlsx'\n",
    "                \n",
    "            new_data = read_dataFile(filePath)\n",
    "            temp = pd.concat([temp, new_data])\n",
    "            print(f'{year} - Ok')\n",
    "        except:\n",
    "            print(f'Error con la información del año {year} - {filePath}')\n",
    "    \n",
    "    if exportar_datos:\n",
    "        temp.to_excel(f\"datos/{doc['filename']}.xlsx\", index=False)"
   ]
  },
  {
   "cell_type": "code",
   "execution_count": 9,
   "id": "a42d775b",
   "metadata": {},
   "outputs": [
    {
     "data": {
      "text/plain": [
       "(451925, 30)"
      ]
     },
     "execution_count": 9,
     "metadata": {},
     "output_type": "execute_result"
    }
   ],
   "source": [
    "temp.shape"
   ]
  },
  {
   "cell_type": "code",
   "execution_count": 10,
   "id": "cd43478a",
   "metadata": {},
   "outputs": [
    {
     "data": {
      "text/plain": [
       "Disponibilidad Real (kW) 2018    26381\n",
       "Disponibilidad Real (kW) 2016    24827\n",
       "Disponibilidad Real (kW) 2017    24497\n",
       "Disponibilidad Real (kW) 2020    23841\n",
       "Disponibilidad Real (kW) 2019    23052\n",
       "Disponibilidad Real (kW) 2015    22777\n",
       "Disponibilidad Real (kW) 2014    22519\n",
       "Disponibilidad Real (kW) 2013    21231\n",
       "Disponibilidad Real (kW) 2002    21222\n",
       "Disponibilidad Real (kW) 2001    21116\n",
       "Disponibilidad Real (kW) 2003    20728\n",
       "Disponibilidad Real (kW) 2012    20538\n",
       "Disponibilidad Real (kW) 2000    20502\n",
       "Disponibilidad Real (kW) 2004    19458\n",
       "Disponibilidad Real (kW) 2005    19362\n",
       "Disponibilidad Real (kW) 2011    18742\n",
       "Disponibilidad Real (kW) 2006    18740\n",
       "Disponibilidad Real (kW) 2007    18219\n",
       "Disponibilidad Real (kW) 2008    18186\n",
       "Disponibilidad Real (kW) 2010    16024\n",
       "Disponibilidad Real (kW) 2021    15093\n",
       "Disponibilidad Real (kW) 2009    14870\n",
       "Name: Archivo, dtype: int64"
      ]
     },
     "execution_count": 10,
     "metadata": {},
     "output_type": "execute_result"
    }
   ],
   "source": [
    "temp.Archivo.value_counts()"
   ]
  },
  {
   "cell_type": "code",
   "execution_count": 11,
   "id": "5d9ffcbf",
   "metadata": {},
   "outputs": [
    {
     "data": {
      "text/plain": [
       "['Fecha',\n",
       " 'Recurso',\n",
       " 'Tipo Generación',\n",
       " 'Código Agente',\n",
       " '0',\n",
       " '1',\n",
       " '2',\n",
       " '3',\n",
       " '4',\n",
       " '5',\n",
       " '6',\n",
       " '7',\n",
       " '8',\n",
       " '9',\n",
       " '10',\n",
       " '11',\n",
       " '12',\n",
       " '13',\n",
       " '14',\n",
       " '15',\n",
       " '16',\n",
       " '17',\n",
       " '18',\n",
       " '19',\n",
       " '20',\n",
       " '21',\n",
       " '22',\n",
       " '23',\n",
       " 'Archivo',\n",
       " 'Código Recurso']"
      ]
     },
     "execution_count": 11,
     "metadata": {},
     "output_type": "execute_result"
    }
   ],
   "source": [
    "list(temp)"
   ]
  },
  {
   "cell_type": "code",
   "execution_count": null,
   "id": "f9e8a6b9",
   "metadata": {},
   "outputs": [],
   "source": []
  },
  {
   "cell_type": "code",
   "execution_count": null,
   "id": "916080b1",
   "metadata": {},
   "outputs": [],
   "source": []
  },
  {
   "cell_type": "code",
   "execution_count": null,
   "id": "33f3713c",
   "metadata": {},
   "outputs": [],
   "source": []
  },
  {
   "cell_type": "code",
   "execution_count": null,
   "id": "3aceefcb",
   "metadata": {},
   "outputs": [],
   "source": []
  },
  {
   "cell_type": "code",
   "execution_count": null,
   "id": "b094abf4",
   "metadata": {},
   "outputs": [],
   "source": []
  }
 ],
 "metadata": {
  "kernelspec": {
   "display_name": "Python 3 (ipykernel)",
   "language": "python",
   "name": "python3"
  },
  "language_info": {
   "codemirror_mode": {
    "name": "ipython",
    "version": 3
   },
   "file_extension": ".py",
   "mimetype": "text/x-python",
   "name": "python",
   "nbconvert_exporter": "python",
   "pygments_lexer": "ipython3",
   "version": "3.7.5"
  }
 },
 "nbformat": 4,
 "nbformat_minor": 5
}
