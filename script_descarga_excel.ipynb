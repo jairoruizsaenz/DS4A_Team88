{
 "cells": [
  {
   "cell_type": "code",
   "execution_count": 1,
   "id": "33c8bb59",
   "metadata": {},
   "outputs": [],
   "source": [
    "import pandas as pd"
   ]
  },
  {
   "cell_type": "code",
   "execution_count": 2,
   "id": "35f1a7b2",
   "metadata": {},
   "outputs": [],
   "source": [
    "exportar_datos = True"
   ]
  },
  {
   "cell_type": "code",
   "execution_count": 3,
   "id": "214b503f",
   "metadata": {},
   "outputs": [],
   "source": [
    "def limpiar(n):\n",
    "    return str(n).replace('.0', '')\n",
    "\n",
    "def read_dataFile(path):  \n",
    "    df = pd.read_excel(path)\n",
    "    \n",
    "    file_name = list(df)[0]\n",
    "    \n",
    "    if file_name == 'Unnamed: 0':\n",
    "        for idx in list(df.iloc[0]):\n",
    "            if isinstance(idx, str):\n",
    "                file_name = idx\n",
    "                break\n",
    "    \n",
    "    df.columns = map(limpiar, list(df.iloc[1]))    \n",
    "    df = df.drop([0, 1]).reset_index(drop=True)\n",
    "    df['Archivo'] = file_name\n",
    "\n",
    "    return df"
   ]
  },
  {
   "cell_type": "code",
   "execution_count": 4,
   "id": "d92d73af",
   "metadata": {},
   "outputs": [
    {
     "data": {
      "text/html": [
       "<div>\n",
       "<style scoped>\n",
       "    .dataframe tbody tr th:only-of-type {\n",
       "        vertical-align: middle;\n",
       "    }\n",
       "\n",
       "    .dataframe tbody tr th {\n",
       "        vertical-align: top;\n",
       "    }\n",
       "\n",
       "    .dataframe thead th {\n",
       "        text-align: right;\n",
       "    }\n",
       "</style>\n",
       "<table border=\"1\" class=\"dataframe\">\n",
       "  <thead>\n",
       "    <tr style=\"text-align: right;\">\n",
       "      <th></th>\n",
       "      <th>Código SIC</th>\n",
       "      <th>Nombre Agente</th>\n",
       "      <th>Actividad</th>\n",
       "      <th>Estado</th>\n",
       "      <th>Fecha</th>\n",
       "    </tr>\n",
       "  </thead>\n",
       "  <tbody>\n",
       "    <tr>\n",
       "      <th>0</th>\n",
       "      <td>ENNC</td>\n",
       "      <td>ENGIE COLOMBIA ENERGIA SAS ESP</td>\n",
       "      <td>COMERCIALIZACIÓN</td>\n",
       "      <td>OPERACION</td>\n",
       "      <td>2021-06-21</td>\n",
       "    </tr>\n",
       "    <tr>\n",
       "      <th>1</th>\n",
       "      <td>PCEG</td>\n",
       "      <td>PROMOENERCOL COMERCIALIZADORA DE ENERGÍA S.A.S...</td>\n",
       "      <td>GENERACIÓN</td>\n",
       "      <td>OPERACION</td>\n",
       "      <td>2021-06-17</td>\n",
       "    </tr>\n",
       "    <tr>\n",
       "      <th>2</th>\n",
       "      <td>ATRC</td>\n",
       "      <td>ATRIA ENERGIA S.A.S. E.S.P.</td>\n",
       "      <td>COMERCIALIZACIÓN</td>\n",
       "      <td>OPERACION</td>\n",
       "      <td>2021-06-11</td>\n",
       "    </tr>\n",
       "    <tr>\n",
       "      <th>3</th>\n",
       "      <td>JRTC</td>\n",
       "      <td>EMPRESA PRESTADORA DE SERVICIOS PUBLICOS DE JI...</td>\n",
       "      <td>COMERCIALIZACIÓN</td>\n",
       "      <td>OPERACION</td>\n",
       "      <td>2021-06-02</td>\n",
       "    </tr>\n",
       "    <tr>\n",
       "      <th>4</th>\n",
       "      <td>PTTC</td>\n",
       "      <td>SOCIEDAD DE ECONOMIA MIXTA ALUMBRADO PUBLICO D...</td>\n",
       "      <td>COMERCIALIZACIÓN</td>\n",
       "      <td>OPERACION</td>\n",
       "      <td>2021-05-28</td>\n",
       "    </tr>\n",
       "  </tbody>\n",
       "</table>\n",
       "</div>"
      ],
      "text/plain": [
       "  Código SIC                                      Nombre Agente  \\\n",
       "0       ENNC                     ENGIE COLOMBIA ENERGIA SAS ESP   \n",
       "1       PCEG  PROMOENERCOL COMERCIALIZADORA DE ENERGÍA S.A.S...   \n",
       "2       ATRC                        ATRIA ENERGIA S.A.S. E.S.P.   \n",
       "3       JRTC  EMPRESA PRESTADORA DE SERVICIOS PUBLICOS DE JI...   \n",
       "4       PTTC  SOCIEDAD DE ECONOMIA MIXTA ALUMBRADO PUBLICO D...   \n",
       "\n",
       "          Actividad     Estado       Fecha  \n",
       "0  COMERCIALIZACIÓN  OPERACION  2021-06-21  \n",
       "1        GENERACIÓN  OPERACION  2021-06-17  \n",
       "2  COMERCIALIZACIÓN  OPERACION  2021-06-11  \n",
       "3  COMERCIALIZACIÓN  OPERACION  2021-06-02  \n",
       "4  COMERCIALIZACIÓN  OPERACION  2021-05-28  "
      ]
     },
     "execution_count": 4,
     "metadata": {},
     "output_type": "execute_result"
    }
   ],
   "source": [
    "# Descarga archivo Listado_Agentes.xlsx\n",
    "filePath=\"http://portalbissrs.xm.com.co/Histricos/Listado_Agentes.xlsx\"\n",
    "df = pd.read_excel(filePath)\n",
    "\n",
    "df.columns = list(df.iloc[2])\n",
    "df = df.drop([0, 1, 2]).reset_index(drop=True)\n",
    "\n",
    "if exportar_datos:\n",
    "    df.to_excel(f\"datos/listado_agentes.xlsx\", index=False)\n",
    "\n",
    "df.head(5)"
   ]
  },
  {
   "cell_type": "code",
   "execution_count": 5,
   "id": "8eb31039",
   "metadata": {},
   "outputs": [
    {
     "name": "stdout",
     "output_type": "stream",
     "text": [
      "2000 - Ok\n",
      "2001 - Ok\n",
      "2002 - Ok\n",
      "2003 - Ok\n",
      "2004 - Ok\n",
      "2005 - Ok\n",
      "2006 - Ok\n",
      "2007 - Ok\n",
      "2008 - Ok\n",
      "2009 - Ok\n",
      "2010 - Ok\n",
      "2011 - Ok\n",
      "Error con la información del año 2012 - http://portalbissrs.xm.com.co/oferta/Histricos/Disponibilidad/Disponibilidad_Comercial_(kW)_2012.xlsx\n",
      "2013 - Ok\n",
      "2014 - Ok\n",
      "2015 - Ok\n",
      "Error con la información del año 2016 - http://portalbissrs.xm.com.co/oferta/Histricos/Disponibilidad/Disponibilidad_Comercial_(kW)_2016.xlsx\n",
      "Error con la información del año 2017 - http://portalbissrs.xm.com.co/oferta/Histricos/Disponibilidad/Disponibilidad_Comercial_(kW)_2017.xlsx\n",
      "2018 - Ok\n",
      "2019 - Ok\n",
      "Error con la información del año 2020 - http://portalbissrs.xm.com.co/oferta/Histricos/Disponibilidad/Disponibilidad_Comercial_(kW)_2020.xlsx\n",
      "Error con la información del año 2021 - http://portalbissrs.xm.com.co/oferta/Histricos/Disponibilidad/Disponibilidad_Comercial_(kW)_2021.xlsx\n",
      "Error con la información del año 2022 - http://portalbissrs.xm.com.co/oferta/Histricos/Disponibilidad/Disponibilidad_Comercial_(kW)_2022.xlsx\n",
      "Error con la información del año 2023 - http://portalbissrs.xm.com.co/oferta/Histricos/Disponibilidad/Disponibilidad_Comercial_(kW)_2023.xlsx\n",
      "Error con la información del año 2024 - http://portalbissrs.xm.com.co/oferta/Histricos/Disponibilidad/Disponibilidad_Comercial_(kW)_2024.xlsx\n"
     ]
    }
   ],
   "source": [
    "documentos = [\n",
    "    {'filename':'Disponibilidad_Comercial', 'enlace':'http://portalbissrs.xm.com.co/oferta/Histricos/Disponibilidad/Disponibilidad_Comercial_(kW)_'},\n",
    "#     {'filename':'Disponibilidad_Declarada', 'enlace':'http://portalbissrs.xm.com.co/oferta/Histricos/Disponibilidad/Disponibilidad_Declarada_(kW)_'}\n",
    "]\n",
    "\n",
    "for doc in documentos:\n",
    "    temp = pd.DataFrame({'Fecha' : []})    \n",
    "    for year in range(2000, 2025):\n",
    "        try:\n",
    "            filePath = doc['enlace'] + f'{year}.xlsx'                        \n",
    "            new_data = read_dataFile(filePath)\n",
    "            temp = pd.concat([temp, new_data])\n",
    "            print(f'{year} - Ok')\n",
    "        except:\n",
    "            print(f'Error con la información del año {year} - {filePath}')\n",
    "    \n",
    "    if exportar_datos:\n",
    "        temp.to_excel(f\"datos/{doc['filename']}.xlsx\", index=False)"
   ]
  },
  {
   "cell_type": "code",
   "execution_count": 6,
   "id": "67ac01c1",
   "metadata": {},
   "outputs": [
    {
     "data": {
      "text/plain": [
       "array(['Disponibilidad Comercial (kW)-2000',\n",
       "       'Disponibilidad Comercial (kW)-2001',\n",
       "       'Disponibilidad Comercial (kW)-2002',\n",
       "       'Disponibilidad Comercial (kW) 2003',\n",
       "       'Disponibilidad Comercial (kW) 2004',\n",
       "       'Disponibilidad Comercial (kW)-2005',\n",
       "       'Disponibilidad Comercial (kW)- 2006',\n",
       "       'Disponibilidad Comercial (kW)-2007',\n",
       "       'Disponibilidad Comercial (kW)-2008',\n",
       "       'Disponobilidad Comercial (kW)-2009',\n",
       "       'Disponibilidad Comercial (kW)-2010',\n",
       "       'Disponibilidad Comercial (kW) 2011',\n",
       "       'Disponibilidad Comercial (kW) 2013',\n",
       "       'Disponibilidad Comercial (kW) 2014',\n",
       "       'Disponibilidad Comercial (kW) 2015',\n",
       "       'Disponibilidad Comercial (kW) 2018',\n",
       "       'Disponibilidad Comercial (kW) 2019'], dtype=object)"
      ]
     },
     "execution_count": 6,
     "metadata": {},
     "output_type": "execute_result"
    }
   ],
   "source": [
    "temp.Archivo.unique()"
   ]
  },
  {
   "cell_type": "code",
   "execution_count": 7,
   "id": "029611f0",
   "metadata": {},
   "outputs": [
    {
     "data": {
      "text/plain": [
       "Index(['Fecha', 'Recurso', 'Código Agente', '0', '1', '2', '3', '4', '5', '6',\n",
       "       '7', '8', '9', '10', '11', '12', '13', '14', '15', '16', '17', '18',\n",
       "       '19', '20', '21', '22', '23', 'Archivo', 'Version'],\n",
       "      dtype='object')"
      ]
     },
     "execution_count": 7,
     "metadata": {},
     "output_type": "execute_result"
    }
   ],
   "source": [
    "temp.columns"
   ]
  },
  {
   "cell_type": "code",
   "execution_count": 8,
   "id": "199bc635",
   "metadata": {},
   "outputs": [
    {
     "data": {
      "text/plain": [
       "(915966, 29)"
      ]
     },
     "execution_count": 8,
     "metadata": {},
     "output_type": "execute_result"
    }
   ],
   "source": [
    "temp.shape"
   ]
  },
  {
   "cell_type": "code",
   "execution_count": null,
   "id": "503e5040",
   "metadata": {},
   "outputs": [],
   "source": []
  },
  {
   "cell_type": "code",
   "execution_count": null,
   "id": "32e241a3",
   "metadata": {},
   "outputs": [],
   "source": []
  },
  {
   "cell_type": "code",
   "execution_count": null,
   "id": "ba21fccd",
   "metadata": {},
   "outputs": [],
   "source": []
  },
  {
   "cell_type": "code",
   "execution_count": null,
   "id": "ba8baae8",
   "metadata": {},
   "outputs": [],
   "source": []
  },
  {
   "cell_type": "code",
   "execution_count": null,
   "id": "a1baf8be",
   "metadata": {},
   "outputs": [],
   "source": []
  }
 ],
 "metadata": {
  "kernelspec": {
   "display_name": "Python 3",
   "language": "python",
   "name": "python3"
  },
  "language_info": {
   "codemirror_mode": {
    "name": "ipython",
    "version": 3
   },
   "file_extension": ".py",
   "mimetype": "text/x-python",
   "name": "python",
   "nbconvert_exporter": "python",
   "pygments_lexer": "ipython3",
   "version": "3.8.3"
  }
 },
 "nbformat": 4,
 "nbformat_minor": 5
}
