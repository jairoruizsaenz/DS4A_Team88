{
  "nbformat": 4,
  "nbformat_minor": 0,
  "metadata": {
    "colab": {
      "name": "ts_hydrology.ipynb",
      "provenance": [],
      "collapsed_sections": []
    },
    "kernelspec": {
      "name": "python3",
      "display_name": "Python 3"
    },
    "language_info": {
      "name": "python"
    }
  },
  "cells": [
    {
      "cell_type": "code",
      "metadata": {
        "id": "uiSX46JsF381"
      },
      "source": [
        "import pandas as pd\n",
        "import numpy as np\n",
        "import matplotlib.pyplot as plt\n",
        "import seaborn as sns"
      ],
      "execution_count": 1,
      "outputs": []
    },
    {
      "cell_type": "markdown",
      "metadata": {
        "id": "SCS2ys_JCcAY"
      },
      "source": [
        "# **Análisis exploratorio de los datos de aportes diarios**"
      ]
    },
    {
      "cell_type": "code",
      "metadata": {
        "id": "9zsuKN0_Zs4m"
      },
      "source": [
        "# descarga de los aportes diarios desde el 2000 hasta 2019\n",
        "temp_aportes_diario = pd.DataFrame({'Fecha' : []})\n",
        "for year in range(2000, 2020):\n",
        "    filePath = f'http://portalbissrs.xm.com.co/hdrlg/Histricos/Aportes/Aportes_Diario_{year}.xlsx?'\n",
        "    new_data = pd.read_excel(filePath, index_col=None, header=3)\n",
        "    temp_aportes_diario = pd.concat([temp_aportes_diario, new_data])\n",
        "    temp_aportes_diario = temp_aportes_diario.drop(['Unnamed: 0'],axis=1)\n",
        "temp_aportes_diario['Aportes Energía gWh'] = temp_aportes_diario['Aportes Energía kWh']/1000000\n",
        "temp_aportes_diario['Aportes %'] = temp_aportes_diario['Aportes %']*100"
      ],
      "execution_count": 2,
      "outputs": []
    },
    {
      "cell_type": "code",
      "metadata": {
        "id": "Ce_v5K_1nXAc"
      },
      "source": [
        "# descarga de los aportes diarios desde el 2020 hasta 2021\n",
        "temp_aportes_diario_2 = pd.DataFrame({'Fecha' : []})\n",
        "for year in range(2020, 2022):\n",
        "    filePath = f'http://portalbissrs.xm.com.co/hdrlg/Histricos/Aportes_Diario_{year}.xlsx?'\n",
        "    new_data = pd.read_excel(filePath, index_col=None, header=3)\n",
        "    temp_aportes_diario_2 = pd.concat([temp_aportes_diario_2, new_data])\n",
        "    temp_aportes_diario_2 = temp_aportes_diario_2.drop(['Unnamed: 0'],axis=1)\n",
        "temp_aportes_diario_2['Aportes Energía gWh'] = temp_aportes_diario_2['Aportes Energía kWh']/1000000\n",
        "temp_aportes_diario_2['Aportes %'] = temp_aportes_diario_2['Aportes %']*100"
      ],
      "execution_count": 3,
      "outputs": []
    },
    {
      "cell_type": "code",
      "metadata": {
        "id": "FI6e3SgAxNa5"
      },
      "source": [
        "df_ap = pd.concat([temp_aportes_diario,temp_aportes_diario_2])"
      ],
      "execution_count": 4,
      "outputs": []
    },
    {
      "cell_type": "code",
      "metadata": {
        "colab": {
          "base_uri": "https://localhost:8080/",
          "height": 162
        },
        "id": "L_GMJjTmKzaG",
        "outputId": "2ade85a1-64ff-4e58-d849-594e722fed2f"
      },
      "source": [
        "df_ap.tail(2)"
      ],
      "execution_count": 5,
      "outputs": [
        {
          "output_type": "execute_result",
          "data": {
            "text/html": [
              "<div>\n",
              "<style scoped>\n",
              "    .dataframe tbody tr th:only-of-type {\n",
              "        vertical-align: middle;\n",
              "    }\n",
              "\n",
              "    .dataframe tbody tr th {\n",
              "        vertical-align: top;\n",
              "    }\n",
              "\n",
              "    .dataframe thead th {\n",
              "        text-align: right;\n",
              "    }\n",
              "</style>\n",
              "<table border=\"1\" class=\"dataframe\">\n",
              "  <thead>\n",
              "    <tr style=\"text-align: right;\">\n",
              "      <th></th>\n",
              "      <th>Fecha</th>\n",
              "      <th>Region Hidrologica</th>\n",
              "      <th>Nombre Río</th>\n",
              "      <th>Aportes Caudal m3/s</th>\n",
              "      <th>Aportes Energía kWh</th>\n",
              "      <th>Aportes %</th>\n",
              "      <th>Aportes Energía gWh</th>\n",
              "    </tr>\n",
              "  </thead>\n",
              "  <tbody>\n",
              "    <tr>\n",
              "      <th>6662</th>\n",
              "      <td>2021-07-15</td>\n",
              "      <td>VALLE</td>\n",
              "      <td>DIGUA</td>\n",
              "      <td>19.82</td>\n",
              "      <td>287200.0</td>\n",
              "      <td>95.733333</td>\n",
              "      <td>0.2872</td>\n",
              "    </tr>\n",
              "    <tr>\n",
              "      <th>6663</th>\n",
              "      <td>2021-07-15</td>\n",
              "      <td>VALLE</td>\n",
              "      <td>FLORIDA II</td>\n",
              "      <td>12.90</td>\n",
              "      <td>258000.0</td>\n",
              "      <td>43.000000</td>\n",
              "      <td>0.2580</td>\n",
              "    </tr>\n",
              "  </tbody>\n",
              "</table>\n",
              "</div>"
            ],
            "text/plain": [
              "           Fecha Region Hidrologica  ...  Aportes %  Aportes Energía gWh\n",
              "6662  2021-07-15              VALLE  ...  95.733333               0.2872\n",
              "6663  2021-07-15              VALLE  ...  43.000000               0.2580\n",
              "\n",
              "[2 rows x 7 columns]"
            ]
          },
          "metadata": {
            "tags": []
          },
          "execution_count": 5
        }
      ]
    },
    {
      "cell_type": "code",
      "metadata": {
        "colab": {
          "base_uri": "https://localhost:8080/"
        },
        "id": "awUVuG1UFMlC",
        "outputId": "49d9168e-28e9-4bed-f495-c251fa1503b9"
      },
      "source": [
        "df_ap.info()"
      ],
      "execution_count": 6,
      "outputs": [
        {
          "output_type": "stream",
          "text": [
            "<class 'pandas.core.frame.DataFrame'>\n",
            "Int64Index: 204858 entries, 0 to 6663\n",
            "Data columns (total 7 columns):\n",
            " #   Column               Non-Null Count   Dtype  \n",
            "---  ------               --------------   -----  \n",
            " 0   Fecha                204858 non-null  object \n",
            " 1   Region Hidrologica   204858 non-null  object \n",
            " 2   Nombre Río           204858 non-null  object \n",
            " 3   Aportes Caudal m3/s  196704 non-null  float64\n",
            " 4   Aportes Energía kWh  202416 non-null  float64\n",
            " 5   Aportes %            202359 non-null  float64\n",
            " 6   Aportes Energía gWh  202416 non-null  float64\n",
            "dtypes: float64(4), object(3)\n",
            "memory usage: 12.5+ MB\n"
          ],
          "name": "stdout"
        }
      ]
    },
    {
      "cell_type": "code",
      "metadata": {
        "id": "K1aREF8oJ-PN"
      },
      "source": [
        "df_ap['Fecha'] = pd.to_datetime(df_ap['Fecha'])"
      ],
      "execution_count": 7,
      "outputs": []
    },
    {
      "cell_type": "code",
      "metadata": {
        "id": "SXLqOlquKtiK"
      },
      "source": [
        "# \n",
        "\n",
        "# creando las columnas dias, meses y años\n",
        "df_ap['Year'] = df_ap['Fecha'].dt.year\n",
        "df_ap['Month'] = df_ap['Fecha'].dt.month_name()\n",
        "df_ap['Weekday Name'] = df_ap['Fecha'].dt.day_name()"
      ],
      "execution_count": 8,
      "outputs": []
    },
    {
      "cell_type": "code",
      "metadata": {
        "colab": {
          "base_uri": "https://localhost:8080/",
          "height": 382
        },
        "id": "ZZXd9yh3F_lV",
        "outputId": "9c02485e-0f30-434e-878b-96434d41c24e"
      },
      "source": [
        "sns.heatmap(df_ap.notna())"
      ],
      "execution_count": 9,
      "outputs": [
        {
          "output_type": "execute_result",
          "data": {
            "text/plain": [
              "<matplotlib.axes._subplots.AxesSubplot at 0x7f58d3826d50>"
            ]
          },
          "metadata": {
            "tags": []
          },
          "execution_count": 9
        },
        {
          "output_type": "display_data",
          "data": {
            "image/png": "[encoded data removed]",
            "text/plain": [
              "<Figure size 432x288 with 2 Axes>"
            ]
          },
          "metadata": {
            "tags": [],
            "needs_background": "light"
          }
        }
      ]
    },
    {
      "cell_type": "code",
      "metadata": {
        "colab": {
          "base_uri": "https://localhost:8080/"
        },
        "id": "jjtbhVhY6y2d",
        "outputId": "a4c4778e-a7c4-42e7-bc54-da10e6593d5b"
      },
      "source": [
        "df_ap.isnull().sum()"
      ],
      "execution_count": 10,
      "outputs": [
        {
          "output_type": "execute_result",
          "data": {
            "text/plain": [
              "Fecha                     0\n",
              "Region Hidrologica        0\n",
              "Nombre Río                0\n",
              "Aportes Caudal m3/s    8154\n",
              "Aportes Energía kWh    2442\n",
              "Aportes %              2499\n",
              "Aportes Energía gWh    2442\n",
              "Year                      0\n",
              "Month                     0\n",
              "Weekday Name              0\n",
              "dtype: int64"
            ]
          },
          "metadata": {
            "tags": []
          },
          "execution_count": 10
        }
      ]
    },
    {
      "cell_type": "code",
      "metadata": {
        "colab": {
          "base_uri": "https://localhost:8080/",
          "height": 623
        },
        "id": "bq_q0nMVP0bU",
        "outputId": "851290eb-65c2-4f55-adc4-f00864962c81"
      },
      "source": [
        "df_ap"
      ],
      "execution_count": 11,
      "outputs": [
        {
          "output_type": "execute_result",
          "data": {
            "text/html": [
              "<div>\n",
              "<style scoped>\n",
              "    .dataframe tbody tr th:only-of-type {\n",
              "        vertical-align: middle;\n",
              "    }\n",
              "\n",
              "    .dataframe tbody tr th {\n",
              "        vertical-align: top;\n",
              "    }\n",
              "\n",
              "    .dataframe thead th {\n",
              "        text-align: right;\n",
              "    }\n",
              "</style>\n",
              "<table border=\"1\" class=\"dataframe\">\n",
              "  <thead>\n",
              "    <tr style=\"text-align: right;\">\n",
              "      <th></th>\n",
              "      <th>Fecha</th>\n",
              "      <th>Region Hidrologica</th>\n",
              "      <th>Nombre Río</th>\n",
              "      <th>Aportes Caudal m3/s</th>\n",
              "      <th>Aportes Energía kWh</th>\n",
              "      <th>Aportes %</th>\n",
              "      <th>Aportes Energía gWh</th>\n",
              "      <th>Year</th>\n",
              "      <th>Month</th>\n",
              "      <th>Weekday Name</th>\n",
              "    </tr>\n",
              "  </thead>\n",
              "  <tbody>\n",
              "    <tr>\n",
              "      <th>0</th>\n",
              "      <td>2000-01-01</td>\n",
              "      <td>ANTIOQUIA</td>\n",
              "      <td>A. SAN LORENZO</td>\n",
              "      <td>18.50</td>\n",
              "      <td>3924500.0</td>\n",
              "      <td>65.082919</td>\n",
              "      <td>3.9245</td>\n",
              "      <td>2000</td>\n",
              "      <td>January</td>\n",
              "      <td>Saturday</td>\n",
              "    </tr>\n",
              "    <tr>\n",
              "      <th>1</th>\n",
              "      <td>2000-01-01</td>\n",
              "      <td>ANTIOQUIA</td>\n",
              "      <td>CONCEPCION</td>\n",
              "      <td>5.37</td>\n",
              "      <td>1103300.0</td>\n",
              "      <td>110.330000</td>\n",
              "      <td>1.1033</td>\n",
              "      <td>2000</td>\n",
              "      <td>January</td>\n",
              "      <td>Saturday</td>\n",
              "    </tr>\n",
              "    <tr>\n",
              "      <th>2</th>\n",
              "      <td>2000-01-01</td>\n",
              "      <td>ANTIOQUIA</td>\n",
              "      <td>DESV. EEPPM (NEC,PAJ,DOL)</td>\n",
              "      <td>9.98</td>\n",
              "      <td>2050500.0</td>\n",
              "      <td>130.605096</td>\n",
              "      <td>2.0505</td>\n",
              "      <td>2000</td>\n",
              "      <td>January</td>\n",
              "      <td>Saturday</td>\n",
              "    </tr>\n",
              "    <tr>\n",
              "      <th>3</th>\n",
              "      <td>2000-01-01</td>\n",
              "      <td>ANTIOQUIA</td>\n",
              "      <td>GRANDE</td>\n",
              "      <td>28.03</td>\n",
              "      <td>5192100.0</td>\n",
              "      <td>120.187500</td>\n",
              "      <td>5.1921</td>\n",
              "      <td>2000</td>\n",
              "      <td>January</td>\n",
              "      <td>Saturday</td>\n",
              "    </tr>\n",
              "    <tr>\n",
              "      <th>4</th>\n",
              "      <td>2000-01-01</td>\n",
              "      <td>ANTIOQUIA</td>\n",
              "      <td>GUADALUPE</td>\n",
              "      <td>15.82</td>\n",
              "      <td>3250400.0</td>\n",
              "      <td>112.861111</td>\n",
              "      <td>3.2504</td>\n",
              "      <td>2000</td>\n",
              "      <td>January</td>\n",
              "      <td>Saturday</td>\n",
              "    </tr>\n",
              "    <tr>\n",
              "      <th>...</th>\n",
              "      <td>...</td>\n",
              "      <td>...</td>\n",
              "      <td>...</td>\n",
              "      <td>...</td>\n",
              "      <td>...</td>\n",
              "      <td>...</td>\n",
              "      <td>...</td>\n",
              "      <td>...</td>\n",
              "      <td>...</td>\n",
              "      <td>...</td>\n",
              "    </tr>\n",
              "    <tr>\n",
              "      <th>6659</th>\n",
              "      <td>2021-07-15</td>\n",
              "      <td>VALLE</td>\n",
              "      <td>ALTOANCHICAYA</td>\n",
              "      <td>24.06</td>\n",
              "      <td>2413200.0</td>\n",
              "      <td>77.099042</td>\n",
              "      <td>2.4132</td>\n",
              "      <td>2021</td>\n",
              "      <td>July</td>\n",
              "      <td>Thursday</td>\n",
              "    </tr>\n",
              "    <tr>\n",
              "      <th>6660</th>\n",
              "      <td>2021-07-15</td>\n",
              "      <td>VALLE</td>\n",
              "      <td>CALIMA</td>\n",
              "      <td>5.01</td>\n",
              "      <td>221200.0</td>\n",
              "      <td>61.444444</td>\n",
              "      <td>0.2212</td>\n",
              "      <td>2021</td>\n",
              "      <td>July</td>\n",
              "      <td>Thursday</td>\n",
              "    </tr>\n",
              "    <tr>\n",
              "      <th>6661</th>\n",
              "      <td>2021-07-15</td>\n",
              "      <td>VALLE</td>\n",
              "      <td>CAUCA SALVAJINA</td>\n",
              "      <td>104.73</td>\n",
              "      <td>2174900.0</td>\n",
              "      <td>103.566667</td>\n",
              "      <td>2.1749</td>\n",
              "      <td>2021</td>\n",
              "      <td>July</td>\n",
              "      <td>Thursday</td>\n",
              "    </tr>\n",
              "    <tr>\n",
              "      <th>6662</th>\n",
              "      <td>2021-07-15</td>\n",
              "      <td>VALLE</td>\n",
              "      <td>DIGUA</td>\n",
              "      <td>19.82</td>\n",
              "      <td>287200.0</td>\n",
              "      <td>95.733333</td>\n",
              "      <td>0.2872</td>\n",
              "      <td>2021</td>\n",
              "      <td>July</td>\n",
              "      <td>Thursday</td>\n",
              "    </tr>\n",
              "    <tr>\n",
              "      <th>6663</th>\n",
              "      <td>2021-07-15</td>\n",
              "      <td>VALLE</td>\n",
              "      <td>FLORIDA II</td>\n",
              "      <td>12.90</td>\n",
              "      <td>258000.0</td>\n",
              "      <td>43.000000</td>\n",
              "      <td>0.2580</td>\n",
              "      <td>2021</td>\n",
              "      <td>July</td>\n",
              "      <td>Thursday</td>\n",
              "    </tr>\n",
              "  </tbody>\n",
              "</table>\n",
              "<p>204858 rows × 10 columns</p>\n",
              "</div>"
            ],
            "text/plain": [
              "          Fecha Region Hidrologica  ...    Month  Weekday Name\n",
              "0    2000-01-01          ANTIOQUIA  ...  January      Saturday\n",
              "1    2000-01-01          ANTIOQUIA  ...  January      Saturday\n",
              "2    2000-01-01          ANTIOQUIA  ...  January      Saturday\n",
              "3    2000-01-01          ANTIOQUIA  ...  January      Saturday\n",
              "4    2000-01-01          ANTIOQUIA  ...  January      Saturday\n",
              "...         ...                ...  ...      ...           ...\n",
              "6659 2021-07-15              VALLE  ...     July      Thursday\n",
              "6660 2021-07-15              VALLE  ...     July      Thursday\n",
              "6661 2021-07-15              VALLE  ...     July      Thursday\n",
              "6662 2021-07-15              VALLE  ...     July      Thursday\n",
              "6663 2021-07-15              VALLE  ...     July      Thursday\n",
              "\n",
              "[204858 rows x 10 columns]"
            ]
          },
          "metadata": {
            "tags": []
          },
          "execution_count": 11
        }
      ]
    },
    {
      "cell_type": "code",
      "metadata": {
        "colab": {
          "base_uri": "https://localhost:8080/"
        },
        "id": "BRSloSGXP-p8",
        "outputId": "0aca4884-b508-4785-d0e0-6682fe78442d"
      },
      "source": [
        "df_ap['Region Hidrologica'].value_counts()"
      ],
      "execution_count": 20,
      "outputs": [
        {
          "output_type": "execute_result",
          "data": {
            "text/plain": [
              "ANTIOQUIA         94537\n",
              "VALLE             38271\n",
              "CENTRO            33430\n",
              "ORIENTE           23601\n",
              "RIOS ESTIMADOS     7867\n",
              "CARIBE             7152\n",
              "Name: Region Hidrologica, dtype: int64"
            ]
          },
          "metadata": {
            "tags": []
          },
          "execution_count": 20
        }
      ]
    },
    {
      "cell_type": "code",
      "metadata": {
        "id": "4SjwfNzWF228"
      },
      "source": [
        "list_of_regions = df_ap['Region Hidrologica'].unique()"
      ],
      "execution_count": 21,
      "outputs": []
    },
    {
      "cell_type": "code",
      "metadata": {
        "id": "MQ362eEYQM1E"
      },
      "source": [
        "df_Antioquia = df_ap[df_ap['Region Hidrologica'] == 'ANTIOQUIA']\n",
        "df_Valle = df_ap[df_ap['Region Hidrologica'] == 'VALLE']\n",
        "df_Centro = df_ap[df_ap['Region Hidrologica'] == 'CENTRO']\n",
        "df_Oriente = df_ap[df_ap['Region Hidrologica'] == 'ORIENTE']\n",
        "df_Rios = df_ap[df_ap['Region Hidrologica'] == 'RIOS ESTIMADOS']\n",
        "df_Caribe = df_ap[df_ap['Region Hidrologica'] == 'CARIBE']"
      ],
      "execution_count": 37,
      "outputs": []
    },
    {
      "cell_type": "code",
      "metadata": {
        "id": "o-Si4tzxRbks"
      },
      "source": [
        "ts_Antioquia = df_Antioquia[['Aportes Caudal m3/s','Aportes Energía kWh','Aportes %']].groupby(df_Antioquia.Fecha).agg({'Aportes Caudal m3/s': 'sum', 'Aportes Energía kWh': 'sum', 'Aportes %' : 'mean'})\n",
        "ts_Valle = df_Valle[['Aportes Caudal m3/s','Aportes Energía kWh','Aportes %']].groupby(df_Valle.Fecha).agg({'Aportes Caudal m3/s': 'sum', 'Aportes Energía kWh': 'sum', 'Aportes %' : 'mean'})\n",
        "ts_Centro = df_Centro[['Aportes Caudal m3/s','Aportes Energía kWh','Aportes %']].groupby(df_Centro.Fecha).agg({'Aportes Caudal m3/s': 'sum', 'Aportes Energía kWh': 'sum', 'Aportes %' : 'mean'})\n",
        "ts_Oriente = df_Oriente[['Aportes Caudal m3/s','Aportes Energía kWh','Aportes %']].groupby(df_Oriente.Fecha).agg({'Aportes Caudal m3/s': 'sum', 'Aportes Energía kWh': 'sum', 'Aportes %' : 'mean'})\n",
        "ts_Rios = df_Rios[['Aportes Caudal m3/s','Aportes Energía kWh','Aportes %']].groupby(df_Rios.Fecha).agg({'Aportes Caudal m3/s': 'sum', 'Aportes Energía kWh': 'sum', 'Aportes %' : 'mean'})\n",
        "ts_Caribe = df_Caribe[['Aportes Caudal m3/s','Aportes Energía kWh','Aportes %']].groupby(df_Caribe.Fecha).agg({'Aportes Caudal m3/s': 'sum', 'Aportes Energía kWh': 'sum', 'Aportes %' : 'mean'})"
      ],
      "execution_count": 44,
      "outputs": []
    },
    {
      "cell_type": "code",
      "metadata": {
        "colab": {
          "base_uri": "https://localhost:8080/"
        },
        "id": "kr27u3ILS-z_",
        "outputId": "919387b9-e9cc-4c30-b252-8cd1e7cb2136"
      },
      "source": [
        "ts_Antioquia.columns"
      ],
      "execution_count": 45,
      "outputs": [
        {
          "output_type": "execute_result",
          "data": {
            "text/plain": [
              "Index(['Aportes Caudal m3/s', 'Aportes Energía kWh', 'Aportes %'], dtype='object')"
            ]
          },
          "metadata": {
            "tags": []
          },
          "execution_count": 45
        }
      ]
    },
    {
      "cell_type": "code",
      "metadata": {
        "id": "83DPOvNpGQnL"
      },
      "source": [
        "renaming_columns_by_region = []\n",
        "for i in list_of_regions:\n",
        "  x = [f'Aportes Caudal m3/s_{i}', f'Aportes Energía kWh_{i}', f'Aportes %_{i}']\n",
        "  renaming_columns_by_region.append(x)"
      ],
      "execution_count": 46,
      "outputs": []
    },
    {
      "cell_type": "code",
      "metadata": {
        "id": "GL1HPaqiTVQz"
      },
      "source": [
        "ts_Antioquia.columns = renaming_columns_by_region[0]\n",
        "ts_Valle.columns = renaming_columns_by_region[1]\n",
        "ts_Centro.columns = renaming_columns_by_region[2]\n",
        "ts_Oriente.columns = renaming_columns_by_region[3]\n",
        "ts_Rios.columns = renaming_columns_by_region[4]\n",
        "ts_Caribe.columns = renaming_columns_by_region[5]"
      ],
      "execution_count": 47,
      "outputs": []
    },
    {
      "cell_type": "code",
      "metadata": {
        "colab": {
          "base_uri": "https://localhost:8080/",
          "height": 691
        },
        "id": "ZUHW3XMQX0Fb",
        "outputId": "87cabad1-4314-496d-d4d6-9f4a5466e3ca"
      },
      "source": [
        "merge1 = ts_Antioquia.merge(ts_Valle, how = 'left', on = 'Fecha')\n",
        "merge2 = merge1.merge(ts_Centro, how = 'left', on = 'Fecha' )\n",
        "merge3 = merge2.merge(ts_Oriente, how = 'left', on = 'Fecha' )\n",
        "merge4 = merge3.merge(ts_Rios, how = 'left', on = 'Fecha' )\n",
        "ts_hydrology = merge4.merge(ts_Caribe, how = 'left', on = 'Fecha' )\n",
        "ts_hydrology"
      ],
      "execution_count": 67,
      "outputs": [
        {
          "output_type": "execute_result",
          "data": {
            "text/html": [
              "<div>\n",
              "<style scoped>\n",
              "    .dataframe tbody tr th:only-of-type {\n",
              "        vertical-align: middle;\n",
              "    }\n",
              "\n",
              "    .dataframe tbody tr th {\n",
              "        vertical-align: top;\n",
              "    }\n",
              "\n",
              "    .dataframe thead th {\n",
              "        text-align: right;\n",
              "    }\n",
              "</style>\n",
              "<table border=\"1\" class=\"dataframe\">\n",
              "  <thead>\n",
              "    <tr style=\"text-align: right;\">\n",
              "      <th></th>\n",
              "      <th>Aportes Caudal m3/s_ANTIOQUIA</th>\n",
              "      <th>Aportes Energía kWh_ANTIOQUIA</th>\n",
              "      <th>Aportes %_ANTIOQUIA</th>\n",
              "      <th>Aportes Caudal m3/s_CENTRO</th>\n",
              "      <th>Aportes Energía kWh_CENTRO</th>\n",
              "      <th>Aportes %_CENTRO</th>\n",
              "      <th>Aportes Caudal m3/s_ORIENTE</th>\n",
              "      <th>Aportes Energía kWh_ORIENTE</th>\n",
              "      <th>Aportes %_ORIENTE</th>\n",
              "      <th>Aportes Caudal m3/s_RIOS ESTIMADOS</th>\n",
              "      <th>Aportes Energía kWh_RIOS ESTIMADOS</th>\n",
              "      <th>Aportes %_RIOS ESTIMADOS</th>\n",
              "      <th>Aportes Caudal m3/s_VALLE</th>\n",
              "      <th>Aportes Energía kWh_VALLE</th>\n",
              "      <th>Aportes %_VALLE</th>\n",
              "      <th>Aportes Caudal m3/s_CARIBE</th>\n",
              "      <th>Aportes Energía kWh_CARIBE</th>\n",
              "      <th>Aportes %_CARIBE</th>\n",
              "    </tr>\n",
              "    <tr>\n",
              "      <th>Fecha</th>\n",
              "      <th></th>\n",
              "      <th></th>\n",
              "      <th></th>\n",
              "      <th></th>\n",
              "      <th></th>\n",
              "      <th></th>\n",
              "      <th></th>\n",
              "      <th></th>\n",
              "      <th></th>\n",
              "      <th></th>\n",
              "      <th></th>\n",
              "      <th></th>\n",
              "      <th></th>\n",
              "      <th></th>\n",
              "      <th></th>\n",
              "      <th></th>\n",
              "      <th></th>\n",
              "      <th></th>\n",
              "    </tr>\n",
              "  </thead>\n",
              "  <tbody>\n",
              "    <tr>\n",
              "      <th>2000-01-01</th>\n",
              "      <td>161.950</td>\n",
              "      <td>35761700.0</td>\n",
              "      <td>103.338158</td>\n",
              "      <td>269.15</td>\n",
              "      <td>6374400.0</td>\n",
              "      <td>167.084110</td>\n",
              "      <td>263.180</td>\n",
              "      <td>6251200.0</td>\n",
              "      <td>79.550387</td>\n",
              "      <td>24.820</td>\n",
              "      <td>5426200.0</td>\n",
              "      <td>66.683622</td>\n",
              "      <td>0.0</td>\n",
              "      <td>2863800.0</td>\n",
              "      <td>99.437500</td>\n",
              "      <td>NaN</td>\n",
              "      <td>NaN</td>\n",
              "      <td>NaN</td>\n",
              "    </tr>\n",
              "    <tr>\n",
              "      <th>2000-01-02</th>\n",
              "      <td>162.850</td>\n",
              "      <td>36098500.0</td>\n",
              "      <td>103.143176</td>\n",
              "      <td>312.32</td>\n",
              "      <td>7495900.0</td>\n",
              "      <td>214.305873</td>\n",
              "      <td>273.630</td>\n",
              "      <td>4039200.0</td>\n",
              "      <td>65.623777</td>\n",
              "      <td>19.540</td>\n",
              "      <td>4122400.0</td>\n",
              "      <td>53.845373</td>\n",
              "      <td>0.0</td>\n",
              "      <td>2889200.0</td>\n",
              "      <td>100.319444</td>\n",
              "      <td>NaN</td>\n",
              "      <td>NaN</td>\n",
              "      <td>NaN</td>\n",
              "    </tr>\n",
              "    <tr>\n",
              "      <th>2000-01-03</th>\n",
              "      <td>149.780</td>\n",
              "      <td>33240200.0</td>\n",
              "      <td>95.339116</td>\n",
              "      <td>332.54</td>\n",
              "      <td>7918500.0</td>\n",
              "      <td>215.255583</td>\n",
              "      <td>236.890</td>\n",
              "      <td>3580600.0</td>\n",
              "      <td>54.292297</td>\n",
              "      <td>38.290</td>\n",
              "      <td>9751600.0</td>\n",
              "      <td>173.175673</td>\n",
              "      <td>0.0</td>\n",
              "      <td>2997400.0</td>\n",
              "      <td>104.076389</td>\n",
              "      <td>NaN</td>\n",
              "      <td>NaN</td>\n",
              "      <td>NaN</td>\n",
              "    </tr>\n",
              "    <tr>\n",
              "      <th>2000-01-04</th>\n",
              "      <td>153.830</td>\n",
              "      <td>34397800.0</td>\n",
              "      <td>99.596661</td>\n",
              "      <td>285.62</td>\n",
              "      <td>6689400.0</td>\n",
              "      <td>161.847195</td>\n",
              "      <td>275.920</td>\n",
              "      <td>8941400.0</td>\n",
              "      <td>113.558167</td>\n",
              "      <td>24.560</td>\n",
              "      <td>5338000.0</td>\n",
              "      <td>66.629922</td>\n",
              "      <td>0.0</td>\n",
              "      <td>3051600.0</td>\n",
              "      <td>105.958333</td>\n",
              "      <td>NaN</td>\n",
              "      <td>NaN</td>\n",
              "      <td>NaN</td>\n",
              "    </tr>\n",
              "    <tr>\n",
              "      <th>2000-01-05</th>\n",
              "      <td>162.470</td>\n",
              "      <td>35616100.0</td>\n",
              "      <td>103.625248</td>\n",
              "      <td>254.04</td>\n",
              "      <td>6027100.0</td>\n",
              "      <td>159.883272</td>\n",
              "      <td>265.980</td>\n",
              "      <td>7182200.0</td>\n",
              "      <td>93.025516</td>\n",
              "      <td>47.360</td>\n",
              "      <td>11044300.0</td>\n",
              "      <td>164.150632</td>\n",
              "      <td>0.0</td>\n",
              "      <td>3169800.0</td>\n",
              "      <td>110.062500</td>\n",
              "      <td>NaN</td>\n",
              "      <td>NaN</td>\n",
              "      <td>NaN</td>\n",
              "    </tr>\n",
              "    <tr>\n",
              "      <th>...</th>\n",
              "      <td>...</td>\n",
              "      <td>...</td>\n",
              "      <td>...</td>\n",
              "      <td>...</td>\n",
              "      <td>...</td>\n",
              "      <td>...</td>\n",
              "      <td>...</td>\n",
              "      <td>...</td>\n",
              "      <td>...</td>\n",
              "      <td>...</td>\n",
              "      <td>...</td>\n",
              "      <td>...</td>\n",
              "      <td>...</td>\n",
              "      <td>...</td>\n",
              "      <td>...</td>\n",
              "      <td>...</td>\n",
              "      <td>...</td>\n",
              "      <td>...</td>\n",
              "    </tr>\n",
              "    <tr>\n",
              "      <th>2021-07-11</th>\n",
              "      <td>975.252</td>\n",
              "      <td>184621600.0</td>\n",
              "      <td>226.941886</td>\n",
              "      <td>184.32</td>\n",
              "      <td>5623800.0</td>\n",
              "      <td>82.374684</td>\n",
              "      <td>1595.075</td>\n",
              "      <td>68682200.0</td>\n",
              "      <td>114.022873</td>\n",
              "      <td>304.426</td>\n",
              "      <td>64419800.0</td>\n",
              "      <td>86.246687</td>\n",
              "      <td>0.0</td>\n",
              "      <td>3845500.0</td>\n",
              "      <td>158.904959</td>\n",
              "      <td>539.56</td>\n",
              "      <td>5967100.0</td>\n",
              "      <td>110.501852</td>\n",
              "    </tr>\n",
              "    <tr>\n",
              "      <th>2021-07-12</th>\n",
              "      <td>400.902</td>\n",
              "      <td>75146300.0</td>\n",
              "      <td>104.844742</td>\n",
              "      <td>213.98</td>\n",
              "      <td>7104400.0</td>\n",
              "      <td>122.197656</td>\n",
              "      <td>1474.091</td>\n",
              "      <td>60002400.0</td>\n",
              "      <td>101.730205</td>\n",
              "      <td>333.952</td>\n",
              "      <td>73941500.0</td>\n",
              "      <td>110.832046</td>\n",
              "      <td>0.0</td>\n",
              "      <td>2527400.0</td>\n",
              "      <td>104.438017</td>\n",
              "      <td>489.60</td>\n",
              "      <td>5414600.0</td>\n",
              "      <td>100.270370</td>\n",
              "    </tr>\n",
              "    <tr>\n",
              "      <th>2021-07-13</th>\n",
              "      <td>407.940</td>\n",
              "      <td>77670500.0</td>\n",
              "      <td>99.592686</td>\n",
              "      <td>192.03</td>\n",
              "      <td>6035500.0</td>\n",
              "      <td>96.754344</td>\n",
              "      <td>1528.421</td>\n",
              "      <td>62774500.0</td>\n",
              "      <td>107.439366</td>\n",
              "      <td>358.917</td>\n",
              "      <td>79140600.0</td>\n",
              "      <td>122.425052</td>\n",
              "      <td>0.0</td>\n",
              "      <td>2686300.0</td>\n",
              "      <td>111.004132</td>\n",
              "      <td>809.40</td>\n",
              "      <td>8951300.0</td>\n",
              "      <td>165.764815</td>\n",
              "    </tr>\n",
              "    <tr>\n",
              "      <th>2021-07-14</th>\n",
              "      <td>334.639</td>\n",
              "      <td>61260900.0</td>\n",
              "      <td>80.083580</td>\n",
              "      <td>214.25</td>\n",
              "      <td>6434000.0</td>\n",
              "      <td>89.869849</td>\n",
              "      <td>1355.551</td>\n",
              "      <td>63837100.0</td>\n",
              "      <td>101.588566</td>\n",
              "      <td>357.226</td>\n",
              "      <td>80714200.0</td>\n",
              "      <td>117.226279</td>\n",
              "      <td>0.0</td>\n",
              "      <td>2491300.0</td>\n",
              "      <td>102.946281</td>\n",
              "      <td>563.99</td>\n",
              "      <td>6237300.0</td>\n",
              "      <td>115.505556</td>\n",
              "    </tr>\n",
              "    <tr>\n",
              "      <th>2021-07-15</th>\n",
              "      <td>384.572</td>\n",
              "      <td>68085900.0</td>\n",
              "      <td>102.857343</td>\n",
              "      <td>166.52</td>\n",
              "      <td>5354500.0</td>\n",
              "      <td>76.168697</td>\n",
              "      <td>930.356</td>\n",
              "      <td>51294400.0</td>\n",
              "      <td>72.508080</td>\n",
              "      <td>273.143</td>\n",
              "      <td>60673200.0</td>\n",
              "      <td>86.285210</td>\n",
              "      <td>0.0</td>\n",
              "      <td>2131500.0</td>\n",
              "      <td>88.078512</td>\n",
              "      <td>526.01</td>\n",
              "      <td>5817200.0</td>\n",
              "      <td>107.725926</td>\n",
              "    </tr>\n",
              "  </tbody>\n",
              "</table>\n",
              "<p>7867 rows × 18 columns</p>\n",
              "</div>"
            ],
            "text/plain": [
              "            Aportes Caudal m3/s_ANTIOQUIA  ...  Aportes %_CARIBE\n",
              "Fecha                                      ...                  \n",
              "2000-01-01                        161.950  ...               NaN\n",
              "2000-01-02                        162.850  ...               NaN\n",
              "2000-01-03                        149.780  ...               NaN\n",
              "2000-01-04                        153.830  ...               NaN\n",
              "2000-01-05                        162.470  ...               NaN\n",
              "...                                   ...  ...               ...\n",
              "2021-07-11                        975.252  ...        110.501852\n",
              "2021-07-12                        400.902  ...        100.270370\n",
              "2021-07-13                        407.940  ...        165.764815\n",
              "2021-07-14                        334.639  ...        115.505556\n",
              "2021-07-15                        384.572  ...        107.725926\n",
              "\n",
              "[7867 rows x 18 columns]"
            ]
          },
          "metadata": {
            "tags": []
          },
          "execution_count": 67
        }
      ]
    },
    {
      "cell_type": "code",
      "metadata": {
        "colab": {
          "base_uri": "https://localhost:8080/"
        },
        "id": "uZ4BHSgPKnWU",
        "outputId": "7c84abc6-3261-4523-bcdc-739eddceffb4"
      },
      "source": [
        "list_of_regions"
      ],
      "execution_count": 52,
      "outputs": [
        {
          "output_type": "execute_result",
          "data": {
            "text/plain": [
              "array(['ANTIOQUIA', 'CENTRO', 'ORIENTE', 'RIOS ESTIMADOS', 'VALLE',\n",
              "       'CARIBE'], dtype=object)"
            ]
          },
          "metadata": {
            "tags": []
          },
          "execution_count": 52
        }
      ]
    },
    {
      "cell_type": "code",
      "metadata": {
        "id": "jqLoNCFIav7C"
      },
      "source": [
        "ts_hydrology['Caudal'] = ts_hydrology['Aportes Caudal m3/s_ANTIOQUIA'].fillna(0) + ts_hydrology['Aportes Caudal m3/s_CENTRO'].fillna(0) + ts_hydrology['Aportes Caudal m3/s_ORIENTE'].fillna(0) + ts_hydrology['Aportes Caudal m3/s_RIOS ESTIMADOS'].fillna(0) + ts_hydrology['Aportes Caudal m3/s_VALLE'].fillna(0) + ts_hydrology['Aportes Caudal m3/s_CARIBE'].fillna(0)\n",
        "ts_hydrology['Energia'] = ts_hydrology['Aportes Energía kWh_ANTIOQUIA'].fillna(0) + ts_hydrology['Aportes Energía kWh_CENTRO'].fillna(0) + ts_hydrology['Aportes Energía kWh_ORIENTE'].fillna(0) + ts_hydrology['Aportes Energía kWh_RIOS ESTIMADOS'].fillna(0) + ts_hydrology['Aportes Energía kWh_VALLE'].fillna(0) + ts_hydrology['Aportes Energía kWh_CARIBE'].fillna(0)"
      ],
      "execution_count": 59,
      "outputs": []
    },
    {
      "cell_type": "code",
      "metadata": {
        "colab": {
          "base_uri": "https://localhost:8080/",
          "height": 336
        },
        "id": "tqkRvEXxLn7T",
        "outputId": "84278775-68d1-4c21-c96b-9444e9e00691"
      },
      "source": [
        "ts_hydrology['Caudal'].plot(figsize=(18, 6))"
      ],
      "execution_count": 60,
      "outputs": [
        {
          "output_type": "execute_result",
          "data": {
            "text/plain": [
              "<matplotlib.axes._subplots.AxesSubplot at 0x7f58d381c590>"
            ]
          },
          "metadata": {
            "tags": []
          },
          "execution_count": 60
        },
        {
          "output_type": "display_data",
          "data": {
            "image/png": "[encoded data removed]",
            "text/plain": [
              "<Figure size 1296x432 with 1 Axes>"
            ]
          },
          "metadata": {
            "tags": [],
            "needs_background": "light"
          }
        }
      ]
    },
    {
      "cell_type": "code",
      "metadata": {
        "colab": {
          "base_uri": "https://localhost:8080/",
          "height": 436
        },
        "id": "O6zYDcxNL4Fy",
        "outputId": "5dd30942-5e4b-476b-d33b-3079a87acd32"
      },
      "source": [
        "ts_hydrology['Energia'].plot(figsize=(18, 6))"
      ],
      "execution_count": 61,
      "outputs": [
        {
          "output_type": "execute_result",
          "data": {
            "text/plain": [
              "<matplotlib.axes._subplots.AxesSubplot at 0x7f58d3ae0dd0>"
            ]
          },
          "metadata": {
            "tags": []
          },
          "execution_count": 61
        },
        {
          "output_type": "display_data",
          "data": {
            "image/png": "[encoded data removed]",
            "text/plain": [
              "<Figure size 1296x432 with 1 Axes>"
            ]
          },
          "metadata": {
            "tags": [],
            "needs_background": "light"
          }
        }
      ]
    },
    {
      "cell_type": "code",
      "metadata": {
        "colab": {
          "base_uri": "https://localhost:8080/",
          "height": 660
        },
        "id": "HuAYckYQXEZW",
        "outputId": "6fc72a13-ef40-4b21-b4a5-f6cb55f8d0d8"
      },
      "source": [
        "ts_hydrology = ts_hydrology.reset_index()\n",
        "ts_hydrology"
      ],
      "execution_count": 68,
      "outputs": [
        {
          "output_type": "execute_result",
          "data": {
            "text/html": [
              "<div>\n",
              "<style scoped>\n",
              "    .dataframe tbody tr th:only-of-type {\n",
              "        vertical-align: middle;\n",
              "    }\n",
              "\n",
              "    .dataframe tbody tr th {\n",
              "        vertical-align: top;\n",
              "    }\n",
              "\n",
              "    .dataframe thead th {\n",
              "        text-align: right;\n",
              "    }\n",
              "</style>\n",
              "<table border=\"1\" class=\"dataframe\">\n",
              "  <thead>\n",
              "    <tr style=\"text-align: right;\">\n",
              "      <th></th>\n",
              "      <th>Fecha</th>\n",
              "      <th>Aportes Caudal m3/s_ANTIOQUIA</th>\n",
              "      <th>Aportes Energía kWh_ANTIOQUIA</th>\n",
              "      <th>Aportes %_ANTIOQUIA</th>\n",
              "      <th>Aportes Caudal m3/s_CENTRO</th>\n",
              "      <th>Aportes Energía kWh_CENTRO</th>\n",
              "      <th>Aportes %_CENTRO</th>\n",
              "      <th>Aportes Caudal m3/s_ORIENTE</th>\n",
              "      <th>Aportes Energía kWh_ORIENTE</th>\n",
              "      <th>Aportes %_ORIENTE</th>\n",
              "      <th>Aportes Caudal m3/s_RIOS ESTIMADOS</th>\n",
              "      <th>Aportes Energía kWh_RIOS ESTIMADOS</th>\n",
              "      <th>Aportes %_RIOS ESTIMADOS</th>\n",
              "      <th>Aportes Caudal m3/s_VALLE</th>\n",
              "      <th>Aportes Energía kWh_VALLE</th>\n",
              "      <th>Aportes %_VALLE</th>\n",
              "      <th>Aportes Caudal m3/s_CARIBE</th>\n",
              "      <th>Aportes Energía kWh_CARIBE</th>\n",
              "      <th>Aportes %_CARIBE</th>\n",
              "    </tr>\n",
              "  </thead>\n",
              "  <tbody>\n",
              "    <tr>\n",
              "      <th>0</th>\n",
              "      <td>2000-01-01</td>\n",
              "      <td>161.950</td>\n",
              "      <td>35761700.0</td>\n",
              "      <td>103.338158</td>\n",
              "      <td>269.15</td>\n",
              "      <td>6374400.0</td>\n",
              "      <td>167.084110</td>\n",
              "      <td>263.180</td>\n",
              "      <td>6251200.0</td>\n",
              "      <td>79.550387</td>\n",
              "      <td>24.820</td>\n",
              "      <td>5426200.0</td>\n",
              "      <td>66.683622</td>\n",
              "      <td>0.0</td>\n",
              "      <td>2863800.0</td>\n",
              "      <td>99.437500</td>\n",
              "      <td>NaN</td>\n",
              "      <td>NaN</td>\n",
              "      <td>NaN</td>\n",
              "    </tr>\n",
              "    <tr>\n",
              "      <th>1</th>\n",
              "      <td>2000-01-02</td>\n",
              "      <td>162.850</td>\n",
              "      <td>36098500.0</td>\n",
              "      <td>103.143176</td>\n",
              "      <td>312.32</td>\n",
              "      <td>7495900.0</td>\n",
              "      <td>214.305873</td>\n",
              "      <td>273.630</td>\n",
              "      <td>4039200.0</td>\n",
              "      <td>65.623777</td>\n",
              "      <td>19.540</td>\n",
              "      <td>4122400.0</td>\n",
              "      <td>53.845373</td>\n",
              "      <td>0.0</td>\n",
              "      <td>2889200.0</td>\n",
              "      <td>100.319444</td>\n",
              "      <td>NaN</td>\n",
              "      <td>NaN</td>\n",
              "      <td>NaN</td>\n",
              "    </tr>\n",
              "    <tr>\n",
              "      <th>2</th>\n",
              "      <td>2000-01-03</td>\n",
              "      <td>149.780</td>\n",
              "      <td>33240200.0</td>\n",
              "      <td>95.339116</td>\n",
              "      <td>332.54</td>\n",
              "      <td>7918500.0</td>\n",
              "      <td>215.255583</td>\n",
              "      <td>236.890</td>\n",
              "      <td>3580600.0</td>\n",
              "      <td>54.292297</td>\n",
              "      <td>38.290</td>\n",
              "      <td>9751600.0</td>\n",
              "      <td>173.175673</td>\n",
              "      <td>0.0</td>\n",
              "      <td>2997400.0</td>\n",
              "      <td>104.076389</td>\n",
              "      <td>NaN</td>\n",
              "      <td>NaN</td>\n",
              "      <td>NaN</td>\n",
              "    </tr>\n",
              "    <tr>\n",
              "      <th>3</th>\n",
              "      <td>2000-01-04</td>\n",
              "      <td>153.830</td>\n",
              "      <td>34397800.0</td>\n",
              "      <td>99.596661</td>\n",
              "      <td>285.62</td>\n",
              "      <td>6689400.0</td>\n",
              "      <td>161.847195</td>\n",
              "      <td>275.920</td>\n",
              "      <td>8941400.0</td>\n",
              "      <td>113.558167</td>\n",
              "      <td>24.560</td>\n",
              "      <td>5338000.0</td>\n",
              "      <td>66.629922</td>\n",
              "      <td>0.0</td>\n",
              "      <td>3051600.0</td>\n",
              "      <td>105.958333</td>\n",
              "      <td>NaN</td>\n",
              "      <td>NaN</td>\n",
              "      <td>NaN</td>\n",
              "    </tr>\n",
              "    <tr>\n",
              "      <th>4</th>\n",
              "      <td>2000-01-05</td>\n",
              "      <td>162.470</td>\n",
              "      <td>35616100.0</td>\n",
              "      <td>103.625248</td>\n",
              "      <td>254.04</td>\n",
              "      <td>6027100.0</td>\n",
              "      <td>159.883272</td>\n",
              "      <td>265.980</td>\n",
              "      <td>7182200.0</td>\n",
              "      <td>93.025516</td>\n",
              "      <td>47.360</td>\n",
              "      <td>11044300.0</td>\n",
              "      <td>164.150632</td>\n",
              "      <td>0.0</td>\n",
              "      <td>3169800.0</td>\n",
              "      <td>110.062500</td>\n",
              "      <td>NaN</td>\n",
              "      <td>NaN</td>\n",
              "      <td>NaN</td>\n",
              "    </tr>\n",
              "    <tr>\n",
              "      <th>...</th>\n",
              "      <td>...</td>\n",
              "      <td>...</td>\n",
              "      <td>...</td>\n",
              "      <td>...</td>\n",
              "      <td>...</td>\n",
              "      <td>...</td>\n",
              "      <td>...</td>\n",
              "      <td>...</td>\n",
              "      <td>...</td>\n",
              "      <td>...</td>\n",
              "      <td>...</td>\n",
              "      <td>...</td>\n",
              "      <td>...</td>\n",
              "      <td>...</td>\n",
              "      <td>...</td>\n",
              "      <td>...</td>\n",
              "      <td>...</td>\n",
              "      <td>...</td>\n",
              "      <td>...</td>\n",
              "    </tr>\n",
              "    <tr>\n",
              "      <th>7862</th>\n",
              "      <td>2021-07-11</td>\n",
              "      <td>975.252</td>\n",
              "      <td>184621600.0</td>\n",
              "      <td>226.941886</td>\n",
              "      <td>184.32</td>\n",
              "      <td>5623800.0</td>\n",
              "      <td>82.374684</td>\n",
              "      <td>1595.075</td>\n",
              "      <td>68682200.0</td>\n",
              "      <td>114.022873</td>\n",
              "      <td>304.426</td>\n",
              "      <td>64419800.0</td>\n",
              "      <td>86.246687</td>\n",
              "      <td>0.0</td>\n",
              "      <td>3845500.0</td>\n",
              "      <td>158.904959</td>\n",
              "      <td>539.56</td>\n",
              "      <td>5967100.0</td>\n",
              "      <td>110.501852</td>\n",
              "    </tr>\n",
              "    <tr>\n",
              "      <th>7863</th>\n",
              "      <td>2021-07-12</td>\n",
              "      <td>400.902</td>\n",
              "      <td>75146300.0</td>\n",
              "      <td>104.844742</td>\n",
              "      <td>213.98</td>\n",
              "      <td>7104400.0</td>\n",
              "      <td>122.197656</td>\n",
              "      <td>1474.091</td>\n",
              "      <td>60002400.0</td>\n",
              "      <td>101.730205</td>\n",
              "      <td>333.952</td>\n",
              "      <td>73941500.0</td>\n",
              "      <td>110.832046</td>\n",
              "      <td>0.0</td>\n",
              "      <td>2527400.0</td>\n",
              "      <td>104.438017</td>\n",
              "      <td>489.60</td>\n",
              "      <td>5414600.0</td>\n",
              "      <td>100.270370</td>\n",
              "    </tr>\n",
              "    <tr>\n",
              "      <th>7864</th>\n",
              "      <td>2021-07-13</td>\n",
              "      <td>407.940</td>\n",
              "      <td>77670500.0</td>\n",
              "      <td>99.592686</td>\n",
              "      <td>192.03</td>\n",
              "      <td>6035500.0</td>\n",
              "      <td>96.754344</td>\n",
              "      <td>1528.421</td>\n",
              "      <td>62774500.0</td>\n",
              "      <td>107.439366</td>\n",
              "      <td>358.917</td>\n",
              "      <td>79140600.0</td>\n",
              "      <td>122.425052</td>\n",
              "      <td>0.0</td>\n",
              "      <td>2686300.0</td>\n",
              "      <td>111.004132</td>\n",
              "      <td>809.40</td>\n",
              "      <td>8951300.0</td>\n",
              "      <td>165.764815</td>\n",
              "    </tr>\n",
              "    <tr>\n",
              "      <th>7865</th>\n",
              "      <td>2021-07-14</td>\n",
              "      <td>334.639</td>\n",
              "      <td>61260900.0</td>\n",
              "      <td>80.083580</td>\n",
              "      <td>214.25</td>\n",
              "      <td>6434000.0</td>\n",
              "      <td>89.869849</td>\n",
              "      <td>1355.551</td>\n",
              "      <td>63837100.0</td>\n",
              "      <td>101.588566</td>\n",
              "      <td>357.226</td>\n",
              "      <td>80714200.0</td>\n",
              "      <td>117.226279</td>\n",
              "      <td>0.0</td>\n",
              "      <td>2491300.0</td>\n",
              "      <td>102.946281</td>\n",
              "      <td>563.99</td>\n",
              "      <td>6237300.0</td>\n",
              "      <td>115.505556</td>\n",
              "    </tr>\n",
              "    <tr>\n",
              "      <th>7866</th>\n",
              "      <td>2021-07-15</td>\n",
              "      <td>384.572</td>\n",
              "      <td>68085900.0</td>\n",
              "      <td>102.857343</td>\n",
              "      <td>166.52</td>\n",
              "      <td>5354500.0</td>\n",
              "      <td>76.168697</td>\n",
              "      <td>930.356</td>\n",
              "      <td>51294400.0</td>\n",
              "      <td>72.508080</td>\n",
              "      <td>273.143</td>\n",
              "      <td>60673200.0</td>\n",
              "      <td>86.285210</td>\n",
              "      <td>0.0</td>\n",
              "      <td>2131500.0</td>\n",
              "      <td>88.078512</td>\n",
              "      <td>526.01</td>\n",
              "      <td>5817200.0</td>\n",
              "      <td>107.725926</td>\n",
              "    </tr>\n",
              "  </tbody>\n",
              "</table>\n",
              "<p>7867 rows × 19 columns</p>\n",
              "</div>"
            ],
            "text/plain": [
              "          Fecha  ...  Aportes %_CARIBE\n",
              "0    2000-01-01  ...               NaN\n",
              "1    2000-01-02  ...               NaN\n",
              "2    2000-01-03  ...               NaN\n",
              "3    2000-01-04  ...               NaN\n",
              "4    2000-01-05  ...               NaN\n",
              "...         ...  ...               ...\n",
              "7862 2021-07-11  ...        110.501852\n",
              "7863 2021-07-12  ...        100.270370\n",
              "7864 2021-07-13  ...        165.764815\n",
              "7865 2021-07-14  ...        115.505556\n",
              "7866 2021-07-15  ...        107.725926\n",
              "\n",
              "[7867 rows x 19 columns]"
            ]
          },
          "metadata": {
            "tags": []
          },
          "execution_count": 68
        }
      ]
    },
    {
      "cell_type": "code",
      "metadata": {
        "colab": {
          "base_uri": "https://localhost:8080/"
        },
        "id": "Y_5cQHyqXLxr",
        "outputId": "30c83776-8d9a-4a66-8102-36727e3f8fab"
      },
      "source": [
        "ts_hydrology.columns"
      ],
      "execution_count": 69,
      "outputs": [
        {
          "output_type": "execute_result",
          "data": {
            "text/plain": [
              "Index(['Fecha', 'Aportes Caudal m3/s_ANTIOQUIA',\n",
              "       'Aportes Energía kWh_ANTIOQUIA', 'Aportes %_ANTIOQUIA',\n",
              "       'Aportes Caudal m3/s_CENTRO', 'Aportes Energía kWh_CENTRO',\n",
              "       'Aportes %_CENTRO', 'Aportes Caudal m3/s_ORIENTE',\n",
              "       'Aportes Energía kWh_ORIENTE', 'Aportes %_ORIENTE',\n",
              "       'Aportes Caudal m3/s_RIOS ESTIMADOS',\n",
              "       'Aportes Energía kWh_RIOS ESTIMADOS', 'Aportes %_RIOS ESTIMADOS',\n",
              "       'Aportes Caudal m3/s_VALLE', 'Aportes Energía kWh_VALLE',\n",
              "       'Aportes %_VALLE', 'Aportes Caudal m3/s_CARIBE',\n",
              "       'Aportes Energía kWh_CARIBE', 'Aportes %_CARIBE'],\n",
              "      dtype='object')"
            ]
          },
          "metadata": {
            "tags": []
          },
          "execution_count": 69
        }
      ]
    },
    {
      "cell_type": "code",
      "metadata": {
        "id": "ieIQlquRXJIF"
      },
      "source": [
        "ts_hydrology.columns = ['Date', 'Aportes Caudal m3/s_ANTIOQUIA',\n",
        "       'Aportes Energía kWh_ANTIOQUIA', 'Aportes %_ANTIOQUIA',\n",
        "       'Aportes Caudal m3/s_CENTRO', 'Aportes Energía kWh_CENTRO',\n",
        "       'Aportes %_CENTRO', 'Aportes Caudal m3/s_ORIENTE',\n",
        "       'Aportes Energía kWh_ORIENTE', 'Aportes %_ORIENTE',\n",
        "       'Aportes Caudal m3/s_RIOS ESTIMADOS',\n",
        "       'Aportes Energía kWh_RIOS ESTIMADOS', 'Aportes %_RIOS ESTIMADOS',\n",
        "       'Aportes Caudal m3/s_VALLE', 'Aportes Energía kWh_VALLE',\n",
        "       'Aportes %_VALLE', 'Aportes Caudal m3/s_CARIBE',\n",
        "       'Aportes Energía kWh_CARIBE', 'Aportes %_CARIBE']"
      ],
      "execution_count": 70,
      "outputs": []
    },
    {
      "cell_type": "code",
      "metadata": {
        "id": "4XqLMHZOXeI2"
      },
      "source": [
        "ts_hydrology = ts_hydrology.set_index('Date')"
      ],
      "execution_count": 71,
      "outputs": []
    },
    {
      "cell_type": "code",
      "metadata": {
        "id": "gic8cEEPMAoH"
      },
      "source": [
        "ts_hydrology.to_csv('ts_Hydrology.csv')"
      ],
      "execution_count": 62,
      "outputs": []
    }
  ]
}