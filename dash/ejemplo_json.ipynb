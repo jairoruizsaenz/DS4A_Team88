{
 "cells": [
  {
   "cell_type": "code",
   "execution_count": 1,
   "id": "6ad23c78",
   "metadata": {},
   "outputs": [],
   "source": [
    "import json\n",
    "import numpy as np\n",
    "import pandas as pd"
   ]
  },
  {
   "cell_type": "code",
   "execution_count": 2,
   "id": "866016b6",
   "metadata": {},
   "outputs": [],
   "source": [
    "# se crean las series\n",
    "letras = pd.Series(np.array(['a', 'b', 'c', 'd', 'e', 'f', 'g', 'h']))\n",
    "vocales = pd.Series(np.array(['a', 'e', 'i', 'o', 'u']))\n",
    "numeros = pd.Series(np.array([1, 2, 3, 4, 5, 6, 7, 8, 9, 10]))"
   ]
  },
  {
   "cell_type": "code",
   "execution_count": 3,
   "id": "7fc9b94b",
   "metadata": {},
   "outputs": [
    {
     "data": {
      "text/plain": [
       "0    a\n",
       "1    b\n",
       "2    c\n",
       "3    d\n",
       "4    e\n",
       "5    f\n",
       "6    g\n",
       "7    h\n",
       "dtype: object"
      ]
     },
     "execution_count": 3,
     "metadata": {},
     "output_type": "execute_result"
    }
   ],
   "source": [
    "letras"
   ]
  },
  {
   "cell_type": "code",
   "execution_count": 4,
   "id": "2a7b553b",
   "metadata": {},
   "outputs": [
    {
     "data": {
      "text/plain": [
       "0    a\n",
       "1    e\n",
       "2    i\n",
       "3    o\n",
       "4    u\n",
       "dtype: object"
      ]
     },
     "execution_count": 4,
     "metadata": {},
     "output_type": "execute_result"
    }
   ],
   "source": [
    "vocales"
   ]
  },
  {
   "cell_type": "code",
   "execution_count": 5,
   "id": "cedbd03e",
   "metadata": {},
   "outputs": [
    {
     "data": {
      "text/plain": [
       "0     1\n",
       "1     2\n",
       "2     3\n",
       "3     4\n",
       "4     5\n",
       "5     6\n",
       "6     7\n",
       "7     8\n",
       "8     9\n",
       "9    10\n",
       "dtype: int32"
      ]
     },
     "execution_count": 5,
     "metadata": {},
     "output_type": "execute_result"
    }
   ],
   "source": [
    "numeros"
   ]
  },
  {
   "cell_type": "code",
   "execution_count": 6,
   "id": "e3a1893b",
   "metadata": {},
   "outputs": [],
   "source": [
    "diccionario = {}\n",
    "diccionario['letras'] = list(letras)\n",
    "diccionario['vocales'] = list(vocales)\n",
    "diccionario['numeros'] = list(numeros)"
   ]
  },
  {
   "cell_type": "code",
   "execution_count": 7,
   "id": "cf8ca522",
   "metadata": {},
   "outputs": [
    {
     "data": {
      "text/plain": [
       "{'letras': ['a', 'b', 'c', 'd', 'e', 'f', 'g', 'h'],\n",
       " 'vocales': ['a', 'e', 'i', 'o', 'u'],\n",
       " 'numeros': [1, 2, 3, 4, 5, 6, 7, 8, 9, 10]}"
      ]
     },
     "execution_count": 7,
     "metadata": {},
     "output_type": "execute_result"
    }
   ],
   "source": [
    "diccionario"
   ]
  },
  {
   "cell_type": "code",
   "execution_count": 8,
   "id": "48360256",
   "metadata": {},
   "outputs": [],
   "source": [
    "# Se exporta el archivo ejemplo.json\n",
    "with open('ejemplo.json', 'w') as f:\n",
    "    json.dump(diccionario, f)"
   ]
  },
  {
   "cell_type": "markdown",
   "id": "2e122e0a",
   "metadata": {},
   "source": [
    "# :::::::::::::::::::::::::::::::::::::::::::"
   ]
  },
  {
   "cell_type": "code",
   "execution_count": 9,
   "id": "689b65e4",
   "metadata": {},
   "outputs": [],
   "source": [
    "# Lectura del archivo ejemplo.json\n",
    "with open('ejemplo.json', 'r') as f:\n",
    "    data = json.load(f)"
   ]
  },
  {
   "cell_type": "code",
   "execution_count": 10,
   "id": "9d1de80b",
   "metadata": {},
   "outputs": [
    {
     "data": {
      "text/plain": [
       "['a', 'b', 'c', 'd', 'e', 'f', 'g', 'h']"
      ]
     },
     "execution_count": 10,
     "metadata": {},
     "output_type": "execute_result"
    }
   ],
   "source": [
    "data['letras']"
   ]
  },
  {
   "cell_type": "code",
   "execution_count": 11,
   "id": "51a600c9",
   "metadata": {},
   "outputs": [
    {
     "data": {
      "text/plain": [
       "0    a\n",
       "1    b\n",
       "2    c\n",
       "3    d\n",
       "4    e\n",
       "5    f\n",
       "6    g\n",
       "7    h\n",
       "dtype: object"
      ]
     },
     "execution_count": 11,
     "metadata": {},
     "output_type": "execute_result"
    }
   ],
   "source": [
    "letras_series = pd.Series(data['letras'])\n",
    "letras_series"
   ]
  },
  {
   "cell_type": "code",
   "execution_count": null,
   "id": "660258d1",
   "metadata": {},
   "outputs": [],
   "source": []
  }
 ],
 "metadata": {
  "kernelspec": {
   "display_name": "Python 3 (ipykernel)",
   "language": "python",
   "name": "python3"
  },
  "language_info": {
   "codemirror_mode": {
    "name": "ipython",
    "version": 3
   },
   "file_extension": ".py",
   "mimetype": "text/x-python",
   "name": "python",
   "nbconvert_exporter": "python",
   "pygments_lexer": "ipython3",
   "version": "3.7.5"
  }
 },
 "nbformat": 4,
 "nbformat_minor": 5
}
