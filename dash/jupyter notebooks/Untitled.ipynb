{
 "cells": [
  {
   "cell_type": "code",
   "execution_count": 3,
   "id": "93249e3e",
   "metadata": {},
   "outputs": [],
   "source": [
    "import pandas as pd"
   ]
  },
  {
   "cell_type": "code",
   "execution_count": 4,
   "id": "b4832afb",
   "metadata": {},
   "outputs": [],
   "source": [
    "df = pd.read_csv('ts_kwh_dataframe.csv')"
   ]
  },
  {
   "cell_type": "code",
   "execution_count": 5,
   "id": "7b2fcc85",
   "metadata": {},
   "outputs": [
    {
     "data": {
      "text/plain": [
       "['Unnamed: 0',\n",
       " 'Date',\n",
       " 'kW/h price daily mean',\n",
       " 'kW/h price daily std',\n",
       " 'Hydraulic availability',\n",
       " 'Thermal availability',\n",
       " 'Solar availability',\n",
       " 'Flow contribution (m3/s)',\n",
       " 'Energy contribution (gWh)',\n",
       " 'Daily volume (Mm3)',\n",
       " 'Volume (Mm3)',\n",
       " 'Daily useful volume (gWh)',\n",
       " 'Energy volume (gWh)',\n",
       " 'Volume shedding (m3)',\n",
       " 'Energy shedding (gWh)']"
      ]
     },
     "execution_count": 5,
     "metadata": {},
     "output_type": "execute_result"
    }
   ],
   "source": [
    "list(df)"
   ]
  },
  {
   "cell_type": "code",
   "execution_count": 6,
   "id": "45b70bb7",
   "metadata": {},
   "outputs": [],
   "source": [
    "df = df.drop('Unnamed: 0', axis = 1)\n",
    "df['Date'] = pd.to_datetime(df['Date'])\n",
    "df = df.set_index('Date')\n",
    "df['Year'] = df.index.year\n",
    "df['Month'] = df.index.month\n",
    "df[\"Month2\"] = df[\"Month\"].replace({1:\"January\", 2:\"February\", 3:\"March\", 4:\"April\",\n",
    "                                    5:\"May\", 6:\"June\", 7:\"July\", 8:\"August\", 9:\"September\", \n",
    "                                    10:\"October\", 11:\"November\", 12:\"December\"})\n",
    "\n",
    "df[\"Total availability\"] = df[\"Hydraulic availability\"].fillna(0) + df[\"Thermal availability\"].fillna(0) + df[\"Solar availability\"].fillna(0)\n",
    "df = df.reset_index()"
   ]
  },
  {
   "cell_type": "code",
   "execution_count": null,
   "id": "c37ab14f",
   "metadata": {},
   "outputs": [],
   "source": [
    "list(df)"
   ]
  },
  {
   "cell_type": "code",
   "execution_count": null,
   "id": "19fa45ce",
   "metadata": {},
   "outputs": [],
   "source": [
    "df.head()"
   ]
  },
  {
   "cell_type": "code",
   "execution_count": null,
   "id": "96674fbb",
   "metadata": {},
   "outputs": [],
   "source": [
    "df.dtypes"
   ]
  },
  {
   "cell_type": "code",
   "execution_count": null,
   "id": "fa6be8f0",
   "metadata": {},
   "outputs": [],
   "source": []
  },
  {
   "cell_type": "code",
   "execution_count": null,
   "id": "17d999c6",
   "metadata": {},
   "outputs": [],
   "source": [
    "x = df.groupby(['Month', 'Month2'])['Disponibilidad_TOTAL'].agg('sum')\n",
    "x = x.reset_index().drop('Month', axis = 1)\n",
    "x"
   ]
  },
  {
   "cell_type": "code",
   "execution_count": null,
   "id": "c58d32ca",
   "metadata": {},
   "outputs": [],
   "source": []
  },
  {
   "cell_type": "code",
   "execution_count": null,
   "id": "5cf5bb84",
   "metadata": {},
   "outputs": [],
   "source": []
  },
  {
   "cell_type": "code",
   "execution_count": null,
   "id": "1190df49",
   "metadata": {},
   "outputs": [],
   "source": []
  },
  {
   "cell_type": "code",
   "execution_count": null,
   "id": "98c2b17e",
   "metadata": {},
   "outputs": [],
   "source": []
  },
  {
   "cell_type": "code",
   "execution_count": null,
   "id": "f95fe22b",
   "metadata": {},
   "outputs": [],
   "source": []
  }
 ],
 "metadata": {
  "kernelspec": {
   "display_name": "Python 3 (ipykernel)",
   "language": "python",
   "name": "python3"
  },
  "language_info": {
   "codemirror_mode": {
    "name": "ipython",
    "version": 3
   },
   "file_extension": ".py",
   "mimetype": "text/x-python",
   "name": "python",
   "nbconvert_exporter": "python",
   "pygments_lexer": "ipython3",
   "version": "3.7.5"
  }
 },
 "nbformat": 4,
 "nbformat_minor": 5
}
